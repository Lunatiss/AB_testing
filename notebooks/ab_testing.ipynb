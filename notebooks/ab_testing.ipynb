{
 "cells": [
  {
   "cell_type": "code",
   "execution_count": 1,
   "id": "93958ecc",
   "metadata": {},
   "outputs": [],
   "source": [
    "import pandas as pd\n",
    "import matplotlib.pyplot as plt\n",
    "import seaborn as sns\n",
    "import numpy as np\n",
    "import scipy.stats as st\n",
    "\n",
    "%matplotlib inline"
   ]
  },
  {
   "cell_type": "code",
   "execution_count": 2,
   "id": "53523828",
   "metadata": {},
   "outputs": [
    {
     "name": "stdout",
     "output_type": "stream",
     "text": [
      "Requirement already satisfied: scipy in /opt/anaconda3/lib/python3.11/site-packages (1.11.4)\r\n",
      "Requirement already satisfied: numpy<1.28.0,>=1.21.6 in /opt/anaconda3/lib/python3.11/site-packages (from scipy) (1.26.4)\r\n"
     ]
    }
   ],
   "source": [
    "! pip install scipy"
   ]
  },
  {
   "cell_type": "code",
   "execution_count": 3,
   "id": "f87e1fda",
   "metadata": {},
   "outputs": [],
   "source": [
    "clients = pd.read_csv(\"/Users/admin/Desktop/IRONHACK/5.WEEK/AB_testing/data/raw/df_final_demo.txt\")"
   ]
  },
  {
   "cell_type": "code",
   "execution_count": 4,
   "id": "8106dfd0",
   "metadata": {},
   "outputs": [],
   "source": [
    "digi_1 = pd.read_csv(\"/Users/admin/Desktop/IRONHACK/5.WEEK/AB_testing/data/raw/df_final_web_data_pt_1.txt\")"
   ]
  },
  {
   "cell_type": "code",
   "execution_count": 5,
   "id": "9a7670c0",
   "metadata": {},
   "outputs": [],
   "source": [
    "digi_2 = pd.read_csv(\"/Users/admin/Desktop/IRONHACK/5.WEEK/AB_testing/data/raw/df_final_web_data_pt_2.txt\")"
   ]
  },
  {
   "cell_type": "code",
   "execution_count": 6,
   "id": "f78b8f98",
   "metadata": {},
   "outputs": [],
   "source": [
    "experiment = pd.read_csv(\"/Users/admin/Desktop/IRONHACK/5.WEEK/AB_testing/data/raw/df_final_experiment_clients.txt\")"
   ]
  },
  {
   "cell_type": "markdown",
   "id": "9804477e",
   "metadata": {},
   "source": [
    "### Client Profiles:\n",
    "\n",
    "- Demographics like age, gender, and account details of our clients.   "
   ]
  },
  {
   "cell_type": "code",
   "execution_count": 7,
   "id": "284f26bb",
   "metadata": {},
   "outputs": [
    {
     "data": {
      "text/html": [
       "<div>\n",
       "<style scoped>\n",
       "    .dataframe tbody tr th:only-of-type {\n",
       "        vertical-align: middle;\n",
       "    }\n",
       "\n",
       "    .dataframe tbody tr th {\n",
       "        vertical-align: top;\n",
       "    }\n",
       "\n",
       "    .dataframe thead th {\n",
       "        text-align: right;\n",
       "    }\n",
       "</style>\n",
       "<table border=\"1\" class=\"dataframe\">\n",
       "  <thead>\n",
       "    <tr style=\"text-align: right;\">\n",
       "      <th></th>\n",
       "      <th>client_id</th>\n",
       "      <th>clnt_tenure_yr</th>\n",
       "      <th>clnt_tenure_mnth</th>\n",
       "      <th>clnt_age</th>\n",
       "      <th>gendr</th>\n",
       "      <th>num_accts</th>\n",
       "      <th>bal</th>\n",
       "      <th>calls_6_mnth</th>\n",
       "      <th>logons_6_mnth</th>\n",
       "    </tr>\n",
       "  </thead>\n",
       "  <tbody>\n",
       "    <tr>\n",
       "      <th>0</th>\n",
       "      <td>836976</td>\n",
       "      <td>6.0</td>\n",
       "      <td>73.0</td>\n",
       "      <td>60.5</td>\n",
       "      <td>U</td>\n",
       "      <td>2.0</td>\n",
       "      <td>45105.30</td>\n",
       "      <td>6.0</td>\n",
       "      <td>9.0</td>\n",
       "    </tr>\n",
       "    <tr>\n",
       "      <th>1</th>\n",
       "      <td>2304905</td>\n",
       "      <td>7.0</td>\n",
       "      <td>94.0</td>\n",
       "      <td>58.0</td>\n",
       "      <td>U</td>\n",
       "      <td>2.0</td>\n",
       "      <td>110860.30</td>\n",
       "      <td>6.0</td>\n",
       "      <td>9.0</td>\n",
       "    </tr>\n",
       "    <tr>\n",
       "      <th>2</th>\n",
       "      <td>1439522</td>\n",
       "      <td>5.0</td>\n",
       "      <td>64.0</td>\n",
       "      <td>32.0</td>\n",
       "      <td>U</td>\n",
       "      <td>2.0</td>\n",
       "      <td>52467.79</td>\n",
       "      <td>6.0</td>\n",
       "      <td>9.0</td>\n",
       "    </tr>\n",
       "    <tr>\n",
       "      <th>3</th>\n",
       "      <td>1562045</td>\n",
       "      <td>16.0</td>\n",
       "      <td>198.0</td>\n",
       "      <td>49.0</td>\n",
       "      <td>M</td>\n",
       "      <td>2.0</td>\n",
       "      <td>67454.65</td>\n",
       "      <td>3.0</td>\n",
       "      <td>6.0</td>\n",
       "    </tr>\n",
       "    <tr>\n",
       "      <th>4</th>\n",
       "      <td>5126305</td>\n",
       "      <td>12.0</td>\n",
       "      <td>145.0</td>\n",
       "      <td>33.0</td>\n",
       "      <td>F</td>\n",
       "      <td>2.0</td>\n",
       "      <td>103671.75</td>\n",
       "      <td>0.0</td>\n",
       "      <td>3.0</td>\n",
       "    </tr>\n",
       "  </tbody>\n",
       "</table>\n",
       "</div>"
      ],
      "text/plain": [
       "   client_id  clnt_tenure_yr  clnt_tenure_mnth  clnt_age gendr  num_accts  \\\n",
       "0     836976             6.0              73.0      60.5     U        2.0   \n",
       "1    2304905             7.0              94.0      58.0     U        2.0   \n",
       "2    1439522             5.0              64.0      32.0     U        2.0   \n",
       "3    1562045            16.0             198.0      49.0     M        2.0   \n",
       "4    5126305            12.0             145.0      33.0     F        2.0   \n",
       "\n",
       "         bal  calls_6_mnth  logons_6_mnth  \n",
       "0   45105.30           6.0            9.0  \n",
       "1  110860.30           6.0            9.0  \n",
       "2   52467.79           6.0            9.0  \n",
       "3   67454.65           3.0            6.0  \n",
       "4  103671.75           0.0            3.0  "
      ]
     },
     "execution_count": 7,
     "metadata": {},
     "output_type": "execute_result"
    }
   ],
   "source": [
    "clients.head()"
   ]
  },
  {
   "cell_type": "markdown",
   "id": "6d8a13ea",
   "metadata": {},
   "source": [
    "**Meaning of variables:**\n",
    "\n",
    "- `client_id`: Every client’s unique ID.\n",
    "- `clnt_tenure_yr`: Represents how long the client has been with Vanguard, measured in years.\n",
    "- `clnt_tenure_mnth`: Further breaks down the client’s tenure with Vanguard in months.\n",
    "- `clnt_age`:  Indicates the age of the client.\n",
    "- `gendr`: Specifies the client’s gender.\n",
    "- `num_accts`: Denotes the number of accounts the client holds with Vanguard.\n",
    "- `bal`: Gives the total balance spread across all accounts for a particular client.\n",
    "- `calls_6_mnth`:Records the number of times the client reached out over a call in the past six months.\n",
    "- `logons_6_mnth`: Reflects the frequency with which the client logged onto Vanguard’s platform over the last six months.  "
   ]
  },
  {
   "cell_type": "code",
   "execution_count": 8,
   "id": "e06c44de",
   "metadata": {},
   "outputs": [
    {
     "data": {
      "text/html": [
       "<div>\n",
       "<style scoped>\n",
       "    .dataframe tbody tr th:only-of-type {\n",
       "        vertical-align: middle;\n",
       "    }\n",
       "\n",
       "    .dataframe tbody tr th {\n",
       "        vertical-align: top;\n",
       "    }\n",
       "\n",
       "    .dataframe thead th {\n",
       "        text-align: right;\n",
       "    }\n",
       "</style>\n",
       "<table border=\"1\" class=\"dataframe\">\n",
       "  <thead>\n",
       "    <tr style=\"text-align: right;\">\n",
       "      <th></th>\n",
       "      <th>client_id</th>\n",
       "      <th>clnt_tenure_yr</th>\n",
       "      <th>clnt_tenure_mnth</th>\n",
       "      <th>clnt_age</th>\n",
       "      <th>gendr</th>\n",
       "      <th>num_accts</th>\n",
       "      <th>bal</th>\n",
       "      <th>calls_6_mnth</th>\n",
       "      <th>logons_6_mnth</th>\n",
       "    </tr>\n",
       "  </thead>\n",
       "  <tbody>\n",
       "    <tr>\n",
       "      <th>0</th>\n",
       "      <td>836976</td>\n",
       "      <td>6.0</td>\n",
       "      <td>73.0</td>\n",
       "      <td>60.5</td>\n",
       "      <td>U</td>\n",
       "      <td>2.0</td>\n",
       "      <td>45105.30</td>\n",
       "      <td>6.0</td>\n",
       "      <td>9.0</td>\n",
       "    </tr>\n",
       "    <tr>\n",
       "      <th>1</th>\n",
       "      <td>2304905</td>\n",
       "      <td>7.0</td>\n",
       "      <td>94.0</td>\n",
       "      <td>58.0</td>\n",
       "      <td>U</td>\n",
       "      <td>2.0</td>\n",
       "      <td>110860.30</td>\n",
       "      <td>6.0</td>\n",
       "      <td>9.0</td>\n",
       "    </tr>\n",
       "    <tr>\n",
       "      <th>2</th>\n",
       "      <td>1439522</td>\n",
       "      <td>5.0</td>\n",
       "      <td>64.0</td>\n",
       "      <td>32.0</td>\n",
       "      <td>U</td>\n",
       "      <td>2.0</td>\n",
       "      <td>52467.79</td>\n",
       "      <td>6.0</td>\n",
       "      <td>9.0</td>\n",
       "    </tr>\n",
       "    <tr>\n",
       "      <th>3</th>\n",
       "      <td>1562045</td>\n",
       "      <td>16.0</td>\n",
       "      <td>198.0</td>\n",
       "      <td>49.0</td>\n",
       "      <td>M</td>\n",
       "      <td>2.0</td>\n",
       "      <td>67454.65</td>\n",
       "      <td>3.0</td>\n",
       "      <td>6.0</td>\n",
       "    </tr>\n",
       "    <tr>\n",
       "      <th>4</th>\n",
       "      <td>5126305</td>\n",
       "      <td>12.0</td>\n",
       "      <td>145.0</td>\n",
       "      <td>33.0</td>\n",
       "      <td>F</td>\n",
       "      <td>2.0</td>\n",
       "      <td>103671.75</td>\n",
       "      <td>0.0</td>\n",
       "      <td>3.0</td>\n",
       "    </tr>\n",
       "  </tbody>\n",
       "</table>\n",
       "</div>"
      ],
      "text/plain": [
       "   client_id  clnt_tenure_yr  clnt_tenure_mnth  clnt_age gendr  num_accts  \\\n",
       "0     836976             6.0              73.0      60.5     U        2.0   \n",
       "1    2304905             7.0              94.0      58.0     U        2.0   \n",
       "2    1439522             5.0              64.0      32.0     U        2.0   \n",
       "3    1562045            16.0             198.0      49.0     M        2.0   \n",
       "4    5126305            12.0             145.0      33.0     F        2.0   \n",
       "\n",
       "         bal  calls_6_mnth  logons_6_mnth  \n",
       "0   45105.30           6.0            9.0  \n",
       "1  110860.30           6.0            9.0  \n",
       "2   52467.79           6.0            9.0  \n",
       "3   67454.65           3.0            6.0  \n",
       "4  103671.75           0.0            3.0  "
      ]
     },
     "execution_count": 8,
     "metadata": {},
     "output_type": "execute_result"
    }
   ],
   "source": [
    "clients.head()"
   ]
  },
  {
   "cell_type": "code",
   "execution_count": 9,
   "id": "72665b59",
   "metadata": {},
   "outputs": [],
   "source": [
    "clients.rename(columns={'gendr': 'gender',\n",
    "                       'num_accts': 'num_account',\n",
    "                       'bal': 'balance'}, inplace=True)"
   ]
  },
  {
   "cell_type": "code",
   "execution_count": 10,
   "id": "e91832d3",
   "metadata": {},
   "outputs": [
    {
     "data": {
      "text/html": [
       "<div>\n",
       "<style scoped>\n",
       "    .dataframe tbody tr th:only-of-type {\n",
       "        vertical-align: middle;\n",
       "    }\n",
       "\n",
       "    .dataframe tbody tr th {\n",
       "        vertical-align: top;\n",
       "    }\n",
       "\n",
       "    .dataframe thead th {\n",
       "        text-align: right;\n",
       "    }\n",
       "</style>\n",
       "<table border=\"1\" class=\"dataframe\">\n",
       "  <thead>\n",
       "    <tr style=\"text-align: right;\">\n",
       "      <th></th>\n",
       "      <th>client_id</th>\n",
       "      <th>clnt_tenure_yr</th>\n",
       "      <th>clnt_tenure_mnth</th>\n",
       "      <th>clnt_age</th>\n",
       "      <th>gender</th>\n",
       "      <th>num_account</th>\n",
       "      <th>balance</th>\n",
       "      <th>calls_6_mnth</th>\n",
       "      <th>logons_6_mnth</th>\n",
       "    </tr>\n",
       "  </thead>\n",
       "  <tbody>\n",
       "    <tr>\n",
       "      <th>0</th>\n",
       "      <td>836976</td>\n",
       "      <td>6.0</td>\n",
       "      <td>73.0</td>\n",
       "      <td>60.5</td>\n",
       "      <td>U</td>\n",
       "      <td>2.0</td>\n",
       "      <td>45105.30</td>\n",
       "      <td>6.0</td>\n",
       "      <td>9.0</td>\n",
       "    </tr>\n",
       "    <tr>\n",
       "      <th>1</th>\n",
       "      <td>2304905</td>\n",
       "      <td>7.0</td>\n",
       "      <td>94.0</td>\n",
       "      <td>58.0</td>\n",
       "      <td>U</td>\n",
       "      <td>2.0</td>\n",
       "      <td>110860.30</td>\n",
       "      <td>6.0</td>\n",
       "      <td>9.0</td>\n",
       "    </tr>\n",
       "    <tr>\n",
       "      <th>2</th>\n",
       "      <td>1439522</td>\n",
       "      <td>5.0</td>\n",
       "      <td>64.0</td>\n",
       "      <td>32.0</td>\n",
       "      <td>U</td>\n",
       "      <td>2.0</td>\n",
       "      <td>52467.79</td>\n",
       "      <td>6.0</td>\n",
       "      <td>9.0</td>\n",
       "    </tr>\n",
       "    <tr>\n",
       "      <th>3</th>\n",
       "      <td>1562045</td>\n",
       "      <td>16.0</td>\n",
       "      <td>198.0</td>\n",
       "      <td>49.0</td>\n",
       "      <td>M</td>\n",
       "      <td>2.0</td>\n",
       "      <td>67454.65</td>\n",
       "      <td>3.0</td>\n",
       "      <td>6.0</td>\n",
       "    </tr>\n",
       "    <tr>\n",
       "      <th>4</th>\n",
       "      <td>5126305</td>\n",
       "      <td>12.0</td>\n",
       "      <td>145.0</td>\n",
       "      <td>33.0</td>\n",
       "      <td>F</td>\n",
       "      <td>2.0</td>\n",
       "      <td>103671.75</td>\n",
       "      <td>0.0</td>\n",
       "      <td>3.0</td>\n",
       "    </tr>\n",
       "  </tbody>\n",
       "</table>\n",
       "</div>"
      ],
      "text/plain": [
       "   client_id  clnt_tenure_yr  clnt_tenure_mnth  clnt_age gender  num_account  \\\n",
       "0     836976             6.0              73.0      60.5      U          2.0   \n",
       "1    2304905             7.0              94.0      58.0      U          2.0   \n",
       "2    1439522             5.0              64.0      32.0      U          2.0   \n",
       "3    1562045            16.0             198.0      49.0      M          2.0   \n",
       "4    5126305            12.0             145.0      33.0      F          2.0   \n",
       "\n",
       "     balance  calls_6_mnth  logons_6_mnth  \n",
       "0   45105.30           6.0            9.0  \n",
       "1  110860.30           6.0            9.0  \n",
       "2   52467.79           6.0            9.0  \n",
       "3   67454.65           3.0            6.0  \n",
       "4  103671.75           0.0            3.0  "
      ]
     },
     "execution_count": 10,
     "metadata": {},
     "output_type": "execute_result"
    }
   ],
   "source": [
    "clients.head()"
   ]
  },
  {
   "cell_type": "code",
   "execution_count": 11,
   "id": "7da84a75",
   "metadata": {},
   "outputs": [],
   "source": [
    "clients.to_csv('clients.csv', index=False)"
   ]
  },
  {
   "cell_type": "markdown",
   "id": "850f5139",
   "metadata": {},
   "source": [
    "### Digital Footprints:\n",
    "- A detailed trace of client interactions online"
   ]
  },
  {
   "cell_type": "code",
   "execution_count": 12,
   "id": "ceda5e0b",
   "metadata": {},
   "outputs": [
    {
     "name": "stdout",
     "output_type": "stream",
     "text": [
      "<class 'pandas.core.frame.DataFrame'>\n",
      "RangeIndex: 343141 entries, 0 to 343140\n",
      "Data columns (total 5 columns):\n",
      " #   Column        Non-Null Count   Dtype \n",
      "---  ------        --------------   ----- \n",
      " 0   client_id     343141 non-null  int64 \n",
      " 1   visitor_id    343141 non-null  object\n",
      " 2   visit_id      343141 non-null  object\n",
      " 3   process_step  343141 non-null  object\n",
      " 4   date_time     343141 non-null  object\n",
      "dtypes: int64(1), object(4)\n",
      "memory usage: 13.1+ MB\n"
     ]
    }
   ],
   "source": [
    "digi_1.info()"
   ]
  },
  {
   "cell_type": "code",
   "execution_count": 13,
   "id": "a3d037f2",
   "metadata": {},
   "outputs": [
    {
     "name": "stdout",
     "output_type": "stream",
     "text": [
      "<class 'pandas.core.frame.DataFrame'>\n",
      "RangeIndex: 412264 entries, 0 to 412263\n",
      "Data columns (total 5 columns):\n",
      " #   Column        Non-Null Count   Dtype \n",
      "---  ------        --------------   ----- \n",
      " 0   client_id     412264 non-null  int64 \n",
      " 1   visitor_id    412264 non-null  object\n",
      " 2   visit_id      412264 non-null  object\n",
      " 3   process_step  412264 non-null  object\n",
      " 4   date_time     412264 non-null  object\n",
      "dtypes: int64(1), object(4)\n",
      "memory usage: 15.7+ MB\n"
     ]
    }
   ],
   "source": [
    "digi_2.info()"
   ]
  },
  {
   "cell_type": "code",
   "execution_count": 14,
   "id": "b42f4ed7",
   "metadata": {},
   "outputs": [
    {
     "data": {
      "text/html": [
       "<div>\n",
       "<style scoped>\n",
       "    .dataframe tbody tr th:only-of-type {\n",
       "        vertical-align: middle;\n",
       "    }\n",
       "\n",
       "    .dataframe tbody tr th {\n",
       "        vertical-align: top;\n",
       "    }\n",
       "\n",
       "    .dataframe thead th {\n",
       "        text-align: right;\n",
       "    }\n",
       "</style>\n",
       "<table border=\"1\" class=\"dataframe\">\n",
       "  <thead>\n",
       "    <tr style=\"text-align: right;\">\n",
       "      <th></th>\n",
       "      <th>client_id</th>\n",
       "      <th>visitor_id</th>\n",
       "      <th>visit_id</th>\n",
       "      <th>process_step</th>\n",
       "      <th>date_time</th>\n",
       "    </tr>\n",
       "  </thead>\n",
       "  <tbody>\n",
       "    <tr>\n",
       "      <th>0</th>\n",
       "      <td>9988021</td>\n",
       "      <td>580560515_7732621733</td>\n",
       "      <td>781255054_21935453173_531117</td>\n",
       "      <td>step_3</td>\n",
       "      <td>2017-04-17 15:27:07</td>\n",
       "    </tr>\n",
       "    <tr>\n",
       "      <th>1</th>\n",
       "      <td>9988021</td>\n",
       "      <td>580560515_7732621733</td>\n",
       "      <td>781255054_21935453173_531117</td>\n",
       "      <td>step_2</td>\n",
       "      <td>2017-04-17 15:26:51</td>\n",
       "    </tr>\n",
       "    <tr>\n",
       "      <th>2</th>\n",
       "      <td>9988021</td>\n",
       "      <td>580560515_7732621733</td>\n",
       "      <td>781255054_21935453173_531117</td>\n",
       "      <td>step_3</td>\n",
       "      <td>2017-04-17 15:19:22</td>\n",
       "    </tr>\n",
       "    <tr>\n",
       "      <th>3</th>\n",
       "      <td>9988021</td>\n",
       "      <td>580560515_7732621733</td>\n",
       "      <td>781255054_21935453173_531117</td>\n",
       "      <td>step_2</td>\n",
       "      <td>2017-04-17 15:19:13</td>\n",
       "    </tr>\n",
       "    <tr>\n",
       "      <th>4</th>\n",
       "      <td>9988021</td>\n",
       "      <td>580560515_7732621733</td>\n",
       "      <td>781255054_21935453173_531117</td>\n",
       "      <td>step_3</td>\n",
       "      <td>2017-04-17 15:18:04</td>\n",
       "    </tr>\n",
       "  </tbody>\n",
       "</table>\n",
       "</div>"
      ],
      "text/plain": [
       "   client_id            visitor_id                      visit_id process_step  \\\n",
       "0    9988021  580560515_7732621733  781255054_21935453173_531117       step_3   \n",
       "1    9988021  580560515_7732621733  781255054_21935453173_531117       step_2   \n",
       "2    9988021  580560515_7732621733  781255054_21935453173_531117       step_3   \n",
       "3    9988021  580560515_7732621733  781255054_21935453173_531117       step_2   \n",
       "4    9988021  580560515_7732621733  781255054_21935453173_531117       step_3   \n",
       "\n",
       "             date_time  \n",
       "0  2017-04-17 15:27:07  \n",
       "1  2017-04-17 15:26:51  \n",
       "2  2017-04-17 15:19:22  \n",
       "3  2017-04-17 15:19:13  \n",
       "4  2017-04-17 15:18:04  "
      ]
     },
     "execution_count": 14,
     "metadata": {},
     "output_type": "execute_result"
    }
   ],
   "source": [
    "web_data = pd.concat([digi_1, digi_2], ignore_index=True)\n",
    "web_data.head()"
   ]
  },
  {
   "cell_type": "markdown",
   "id": "91245ebf",
   "metadata": {},
   "source": [
    "### Client Profiles:\n",
    "\n",
    "\n",
    "- `visitor_id`: A unique ID for each client-device combination.\n",
    "- `visit_id`: A unique ID for each web visit/session.\n",
    "- `process_step`: Marks each step in the digital process.\n",
    "- `date_time`: Timestamp of each web activity."
   ]
  },
  {
   "cell_type": "code",
   "execution_count": 15,
   "id": "f8e15fb9",
   "metadata": {},
   "outputs": [
    {
     "name": "stdout",
     "output_type": "stream",
     "text": [
      "<class 'pandas.core.frame.DataFrame'>\n",
      "RangeIndex: 755405 entries, 0 to 755404\n",
      "Data columns (total 5 columns):\n",
      " #   Column        Non-Null Count   Dtype \n",
      "---  ------        --------------   ----- \n",
      " 0   client_id     755405 non-null  int64 \n",
      " 1   visitor_id    755405 non-null  object\n",
      " 2   visit_id      755405 non-null  object\n",
      " 3   process_step  755405 non-null  object\n",
      " 4   date_time     755405 non-null  object\n",
      "dtypes: int64(1), object(4)\n",
      "memory usage: 28.8+ MB\n"
     ]
    }
   ],
   "source": [
    "web_data.info()"
   ]
  },
  {
   "cell_type": "code",
   "execution_count": 16,
   "id": "78ec79c1",
   "metadata": {},
   "outputs": [
    {
     "data": {
      "text/html": [
       "<div>\n",
       "<style scoped>\n",
       "    .dataframe tbody tr th:only-of-type {\n",
       "        vertical-align: middle;\n",
       "    }\n",
       "\n",
       "    .dataframe tbody tr th {\n",
       "        vertical-align: top;\n",
       "    }\n",
       "\n",
       "    .dataframe thead th {\n",
       "        text-align: right;\n",
       "    }\n",
       "</style>\n",
       "<table border=\"1\" class=\"dataframe\">\n",
       "  <thead>\n",
       "    <tr style=\"text-align: right;\">\n",
       "      <th></th>\n",
       "      <th>client_id</th>\n",
       "      <th>visitor_id</th>\n",
       "      <th>visit_id</th>\n",
       "      <th>process_step</th>\n",
       "      <th>date_time</th>\n",
       "    </tr>\n",
       "  </thead>\n",
       "  <tbody>\n",
       "    <tr>\n",
       "      <th>0</th>\n",
       "      <td>9988021</td>\n",
       "      <td>580560515_7732621733</td>\n",
       "      <td>781255054_21935453173_531117</td>\n",
       "      <td>step_3</td>\n",
       "      <td>2017-04-17 15:27:07</td>\n",
       "    </tr>\n",
       "    <tr>\n",
       "      <th>1</th>\n",
       "      <td>9988021</td>\n",
       "      <td>580560515_7732621733</td>\n",
       "      <td>781255054_21935453173_531117</td>\n",
       "      <td>step_2</td>\n",
       "      <td>2017-04-17 15:26:51</td>\n",
       "    </tr>\n",
       "    <tr>\n",
       "      <th>2</th>\n",
       "      <td>9988021</td>\n",
       "      <td>580560515_7732621733</td>\n",
       "      <td>781255054_21935453173_531117</td>\n",
       "      <td>step_3</td>\n",
       "      <td>2017-04-17 15:19:22</td>\n",
       "    </tr>\n",
       "    <tr>\n",
       "      <th>3</th>\n",
       "      <td>9988021</td>\n",
       "      <td>580560515_7732621733</td>\n",
       "      <td>781255054_21935453173_531117</td>\n",
       "      <td>step_2</td>\n",
       "      <td>2017-04-17 15:19:13</td>\n",
       "    </tr>\n",
       "    <tr>\n",
       "      <th>4</th>\n",
       "      <td>9988021</td>\n",
       "      <td>580560515_7732621733</td>\n",
       "      <td>781255054_21935453173_531117</td>\n",
       "      <td>step_3</td>\n",
       "      <td>2017-04-17 15:18:04</td>\n",
       "    </tr>\n",
       "  </tbody>\n",
       "</table>\n",
       "</div>"
      ],
      "text/plain": [
       "   client_id            visitor_id                      visit_id process_step  \\\n",
       "0    9988021  580560515_7732621733  781255054_21935453173_531117       step_3   \n",
       "1    9988021  580560515_7732621733  781255054_21935453173_531117       step_2   \n",
       "2    9988021  580560515_7732621733  781255054_21935453173_531117       step_3   \n",
       "3    9988021  580560515_7732621733  781255054_21935453173_531117       step_2   \n",
       "4    9988021  580560515_7732621733  781255054_21935453173_531117       step_3   \n",
       "\n",
       "             date_time  \n",
       "0  2017-04-17 15:27:07  \n",
       "1  2017-04-17 15:26:51  \n",
       "2  2017-04-17 15:19:22  \n",
       "3  2017-04-17 15:19:13  \n",
       "4  2017-04-17 15:18:04  "
      ]
     },
     "execution_count": 16,
     "metadata": {},
     "output_type": "execute_result"
    }
   ],
   "source": [
    "web_data.head()"
   ]
  },
  {
   "cell_type": "code",
   "execution_count": 17,
   "id": "4143f0b5",
   "metadata": {},
   "outputs": [
    {
     "data": {
      "text/plain": [
       "(755405, 5)"
      ]
     },
     "execution_count": 17,
     "metadata": {},
     "output_type": "execute_result"
    }
   ],
   "source": [
    "web_data.shape"
   ]
  },
  {
   "cell_type": "code",
   "execution_count": 18,
   "id": "3f2b9af7",
   "metadata": {},
   "outputs": [
    {
     "data": {
      "text/plain": [
       "10764"
      ]
     },
     "execution_count": 18,
     "metadata": {},
     "output_type": "execute_result"
    }
   ],
   "source": [
    "duplicados = web_data.duplicated().sum()\n",
    "duplicados"
   ]
  },
  {
   "cell_type": "code",
   "execution_count": 19,
   "id": "9b988bb1",
   "metadata": {},
   "outputs": [],
   "source": [
    "web_data = web_data.drop_duplicates()"
   ]
  },
  {
   "cell_type": "code",
   "execution_count": 20,
   "id": "436c9b68",
   "metadata": {},
   "outputs": [
    {
     "data": {
      "text/plain": [
       "(744641, 5)"
      ]
     },
     "execution_count": 20,
     "metadata": {},
     "output_type": "execute_result"
    }
   ],
   "source": [
    "web_data.shape"
   ]
  },
  {
   "cell_type": "code",
   "execution_count": 21,
   "id": "d8243b0f",
   "metadata": {},
   "outputs": [],
   "source": [
    "web_data.to_csv('web_data.csv', index=False)"
   ]
  },
  {
   "cell_type": "markdown",
   "id": "8c39a759",
   "metadata": {},
   "source": [
    "## Experiment Roster\n",
    "- A list revealing which clients were part of the grand experiment.\n",
    "\n",
    "- `client_id`: Every client’s unique ID.\n",
    "- `variation`:Indicates if a client was part of the experiment."
   ]
  },
  {
   "cell_type": "code",
   "execution_count": 22,
   "id": "13e5097b",
   "metadata": {},
   "outputs": [
    {
     "data": {
      "text/html": [
       "<div>\n",
       "<style scoped>\n",
       "    .dataframe tbody tr th:only-of-type {\n",
       "        vertical-align: middle;\n",
       "    }\n",
       "\n",
       "    .dataframe tbody tr th {\n",
       "        vertical-align: top;\n",
       "    }\n",
       "\n",
       "    .dataframe thead th {\n",
       "        text-align: right;\n",
       "    }\n",
       "</style>\n",
       "<table border=\"1\" class=\"dataframe\">\n",
       "  <thead>\n",
       "    <tr style=\"text-align: right;\">\n",
       "      <th></th>\n",
       "      <th>client_id</th>\n",
       "      <th>Variation</th>\n",
       "    </tr>\n",
       "  </thead>\n",
       "  <tbody>\n",
       "    <tr>\n",
       "      <th>0</th>\n",
       "      <td>9988021</td>\n",
       "      <td>Test</td>\n",
       "    </tr>\n",
       "    <tr>\n",
       "      <th>1</th>\n",
       "      <td>8320017</td>\n",
       "      <td>Test</td>\n",
       "    </tr>\n",
       "    <tr>\n",
       "      <th>2</th>\n",
       "      <td>4033851</td>\n",
       "      <td>Control</td>\n",
       "    </tr>\n",
       "    <tr>\n",
       "      <th>3</th>\n",
       "      <td>1982004</td>\n",
       "      <td>Test</td>\n",
       "    </tr>\n",
       "    <tr>\n",
       "      <th>4</th>\n",
       "      <td>9294070</td>\n",
       "      <td>Control</td>\n",
       "    </tr>\n",
       "  </tbody>\n",
       "</table>\n",
       "</div>"
      ],
      "text/plain": [
       "   client_id Variation\n",
       "0    9988021      Test\n",
       "1    8320017      Test\n",
       "2    4033851   Control\n",
       "3    1982004      Test\n",
       "4    9294070   Control"
      ]
     },
     "execution_count": 22,
     "metadata": {},
     "output_type": "execute_result"
    }
   ],
   "source": [
    "experiment.head()"
   ]
  },
  {
   "cell_type": "code",
   "execution_count": 23,
   "id": "4a42cfcc",
   "metadata": {},
   "outputs": [
    {
     "data": {
      "text/plain": [
       "Variation\n",
       "Test       26968\n",
       "Control    23532\n",
       "Name: count, dtype: int64"
      ]
     },
     "execution_count": 23,
     "metadata": {},
     "output_type": "execute_result"
    }
   ],
   "source": [
    "experiment['Variation'].value_counts()"
   ]
  },
  {
   "cell_type": "code",
   "execution_count": 24,
   "id": "e12370cd",
   "metadata": {},
   "outputs": [
    {
     "data": {
      "text/plain": [
       "(70609, 2)"
      ]
     },
     "execution_count": 24,
     "metadata": {},
     "output_type": "execute_result"
    }
   ],
   "source": [
    "experiment.shape"
   ]
  },
  {
   "cell_type": "markdown",
   "id": "85bd44fa",
   "metadata": {},
   "source": [
    "- `Control Group`: Clients interacted with Vanguard’s traditional online process.\n",
    "- `Test Group`: Clients experienced the new, spruced-up digital interface."
   ]
  },
  {
   "cell_type": "code",
   "execution_count": 25,
   "id": "5716cc5d",
   "metadata": {},
   "outputs": [],
   "source": [
    "#fill nan values with client that no participate:\n",
    "experiment['Variation'] = experiment['Variation'].fillna('No participate')"
   ]
  },
  {
   "cell_type": "code",
   "execution_count": 26,
   "id": "73e2f49d",
   "metadata": {},
   "outputs": [
    {
     "data": {
      "text/plain": [
       "Variation\n",
       "Test              26968\n",
       "Control           23532\n",
       "No participate    20109\n",
       "Name: count, dtype: int64"
      ]
     },
     "execution_count": 26,
     "metadata": {},
     "output_type": "execute_result"
    }
   ],
   "source": [
    "experiment['Variation'].value_counts()"
   ]
  },
  {
   "cell_type": "code",
   "execution_count": 27,
   "id": "b4cfb2d9",
   "metadata": {},
   "outputs": [],
   "source": [
    "experiment.rename(columns={'Variation': 'variation'}, inplace=True)"
   ]
  },
  {
   "cell_type": "code",
   "execution_count": 28,
   "id": "993710a2",
   "metadata": {},
   "outputs": [
    {
     "name": "stdout",
     "output_type": "stream",
     "text": [
      "<class 'pandas.core.frame.DataFrame'>\n",
      "RangeIndex: 70609 entries, 0 to 70608\n",
      "Data columns (total 2 columns):\n",
      " #   Column     Non-Null Count  Dtype \n",
      "---  ------     --------------  ----- \n",
      " 0   client_id  70609 non-null  int64 \n",
      " 1   variation  70609 non-null  object\n",
      "dtypes: int64(1), object(1)\n",
      "memory usage: 1.1+ MB\n"
     ]
    }
   ],
   "source": [
    "experiment.info()"
   ]
  },
  {
   "cell_type": "code",
   "execution_count": 29,
   "id": "51c29cfe",
   "metadata": {},
   "outputs": [],
   "source": [
    "experiment.to_csv('experiment.csv', index=False)"
   ]
  },
  {
   "cell_type": "markdown",
   "id": "dc94533a",
   "metadata": {},
   "source": [
    "### Day 1: Answered the following questions about demographics:\n",
    "\n",
    "- Who are the primary clients using this online process?\n",
    "- Are the primary clients younger or older, new or long-standing?"
   ]
  },
  {
   "cell_type": "markdown",
   "id": "c81ae914",
   "metadata": {},
   "source": [
    "1. Who are the primary clients using this online process?\n",
    "\n",
    "We consider primary clients to be those who have been with Vanguards for the longest period of time in years and those who have a higher balance than other clients. \n"
   ]
  },
  {
   "cell_type": "code",
   "execution_count": 30,
   "id": "10871840",
   "metadata": {},
   "outputs": [
    {
     "data": {
      "text/html": [
       "<div>\n",
       "<style scoped>\n",
       "    .dataframe tbody tr th:only-of-type {\n",
       "        vertical-align: middle;\n",
       "    }\n",
       "\n",
       "    .dataframe tbody tr th {\n",
       "        vertical-align: top;\n",
       "    }\n",
       "\n",
       "    .dataframe thead th {\n",
       "        text-align: right;\n",
       "    }\n",
       "</style>\n",
       "<table border=\"1\" class=\"dataframe\">\n",
       "  <thead>\n",
       "    <tr style=\"text-align: right;\">\n",
       "      <th></th>\n",
       "      <th>client_id</th>\n",
       "      <th>clnt_tenure_yr</th>\n",
       "      <th>clnt_tenure_mnth</th>\n",
       "      <th>clnt_age</th>\n",
       "      <th>gender</th>\n",
       "      <th>num_account</th>\n",
       "      <th>balance</th>\n",
       "      <th>calls_6_mnth</th>\n",
       "      <th>logons_6_mnth</th>\n",
       "    </tr>\n",
       "  </thead>\n",
       "  <tbody>\n",
       "    <tr>\n",
       "      <th>64690</th>\n",
       "      <td>357409</td>\n",
       "      <td>62.0</td>\n",
       "      <td>749.0</td>\n",
       "      <td>51.0</td>\n",
       "      <td>F</td>\n",
       "      <td>2.0</td>\n",
       "      <td>317681.78</td>\n",
       "      <td>4.0</td>\n",
       "      <td>4.0</td>\n",
       "    </tr>\n",
       "    <tr>\n",
       "      <th>12871</th>\n",
       "      <td>3271450</td>\n",
       "      <td>55.0</td>\n",
       "      <td>669.0</td>\n",
       "      <td>48.5</td>\n",
       "      <td>M</td>\n",
       "      <td>4.0</td>\n",
       "      <td>219932.98</td>\n",
       "      <td>0.0</td>\n",
       "      <td>3.0</td>\n",
       "    </tr>\n",
       "    <tr>\n",
       "      <th>56608</th>\n",
       "      <td>6743983</td>\n",
       "      <td>55.0</td>\n",
       "      <td>668.0</td>\n",
       "      <td>46.0</td>\n",
       "      <td>F</td>\n",
       "      <td>2.0</td>\n",
       "      <td>962741.20</td>\n",
       "      <td>6.0</td>\n",
       "      <td>6.0</td>\n",
       "    </tr>\n",
       "    <tr>\n",
       "      <th>30335</th>\n",
       "      <td>7616896</td>\n",
       "      <td>55.0</td>\n",
       "      <td>669.0</td>\n",
       "      <td>78.0</td>\n",
       "      <td>U</td>\n",
       "      <td>2.0</td>\n",
       "      <td>45780.56</td>\n",
       "      <td>5.0</td>\n",
       "      <td>8.0</td>\n",
       "    </tr>\n",
       "    <tr>\n",
       "      <th>11329</th>\n",
       "      <td>4833584</td>\n",
       "      <td>55.0</td>\n",
       "      <td>669.0</td>\n",
       "      <td>45.0</td>\n",
       "      <td>M</td>\n",
       "      <td>4.0</td>\n",
       "      <td>718973.76</td>\n",
       "      <td>6.0</td>\n",
       "      <td>9.0</td>\n",
       "    </tr>\n",
       "  </tbody>\n",
       "</table>\n",
       "</div>"
      ],
      "text/plain": [
       "       client_id  clnt_tenure_yr  clnt_tenure_mnth  clnt_age gender  \\\n",
       "64690     357409            62.0             749.0      51.0      F   \n",
       "12871    3271450            55.0             669.0      48.5      M   \n",
       "56608    6743983            55.0             668.0      46.0      F   \n",
       "30335    7616896            55.0             669.0      78.0      U   \n",
       "11329    4833584            55.0             669.0      45.0      M   \n",
       "\n",
       "       num_account    balance  calls_6_mnth  logons_6_mnth  \n",
       "64690          2.0  317681.78           4.0            4.0  \n",
       "12871          4.0  219932.98           0.0            3.0  \n",
       "56608          2.0  962741.20           6.0            6.0  \n",
       "30335          2.0   45780.56           5.0            8.0  \n",
       "11329          4.0  718973.76           6.0            9.0  "
      ]
     },
     "execution_count": 30,
     "metadata": {},
     "output_type": "execute_result"
    }
   ],
   "source": [
    "df_year = clients.sort_values(by='clnt_tenure_yr', ascending=[False]).head(100)\n",
    "df_year.head()"
   ]
  },
  {
   "cell_type": "code",
   "execution_count": 31,
   "id": "f52d478a",
   "metadata": {},
   "outputs": [
    {
     "data": {
      "text/html": [
       "<div>\n",
       "<style scoped>\n",
       "    .dataframe tbody tr th:only-of-type {\n",
       "        vertical-align: middle;\n",
       "    }\n",
       "\n",
       "    .dataframe tbody tr th {\n",
       "        vertical-align: top;\n",
       "    }\n",
       "\n",
       "    .dataframe thead th {\n",
       "        text-align: right;\n",
       "    }\n",
       "</style>\n",
       "<table border=\"1\" class=\"dataframe\">\n",
       "  <thead>\n",
       "    <tr style=\"text-align: right;\">\n",
       "      <th></th>\n",
       "      <th>client_id</th>\n",
       "      <th>clnt_tenure_yr</th>\n",
       "      <th>clnt_tenure_mnth</th>\n",
       "      <th>clnt_age</th>\n",
       "      <th>gender</th>\n",
       "      <th>num_account</th>\n",
       "      <th>balance</th>\n",
       "      <th>calls_6_mnth</th>\n",
       "      <th>logons_6_mnth</th>\n",
       "    </tr>\n",
       "  </thead>\n",
       "  <tbody>\n",
       "    <tr>\n",
       "      <th>39367</th>\n",
       "      <td>9286288</td>\n",
       "      <td>21.0</td>\n",
       "      <td>254.0</td>\n",
       "      <td>62.5</td>\n",
       "      <td>M</td>\n",
       "      <td>3.0</td>\n",
       "      <td>16320040.15</td>\n",
       "      <td>6.0</td>\n",
       "      <td>9.0</td>\n",
       "    </tr>\n",
       "    <tr>\n",
       "      <th>63746</th>\n",
       "      <td>8339240</td>\n",
       "      <td>6.0</td>\n",
       "      <td>80.0</td>\n",
       "      <td>26.5</td>\n",
       "      <td>M</td>\n",
       "      <td>2.0</td>\n",
       "      <td>12838418.01</td>\n",
       "      <td>3.0</td>\n",
       "      <td>3.0</td>\n",
       "    </tr>\n",
       "    <tr>\n",
       "      <th>23849</th>\n",
       "      <td>7070097</td>\n",
       "      <td>11.0</td>\n",
       "      <td>133.0</td>\n",
       "      <td>53.0</td>\n",
       "      <td>M</td>\n",
       "      <td>2.0</td>\n",
       "      <td>8986419.77</td>\n",
       "      <td>6.0</td>\n",
       "      <td>9.0</td>\n",
       "    </tr>\n",
       "    <tr>\n",
       "      <th>13318</th>\n",
       "      <td>9440656</td>\n",
       "      <td>7.0</td>\n",
       "      <td>94.0</td>\n",
       "      <td>63.0</td>\n",
       "      <td>F</td>\n",
       "      <td>2.0</td>\n",
       "      <td>8292996.21</td>\n",
       "      <td>6.0</td>\n",
       "      <td>9.0</td>\n",
       "    </tr>\n",
       "    <tr>\n",
       "      <th>2171</th>\n",
       "      <td>2291985</td>\n",
       "      <td>7.0</td>\n",
       "      <td>85.0</td>\n",
       "      <td>41.0</td>\n",
       "      <td>M</td>\n",
       "      <td>2.0</td>\n",
       "      <td>8247729.97</td>\n",
       "      <td>1.0</td>\n",
       "      <td>4.0</td>\n",
       "    </tr>\n",
       "  </tbody>\n",
       "</table>\n",
       "</div>"
      ],
      "text/plain": [
       "       client_id  clnt_tenure_yr  clnt_tenure_mnth  clnt_age gender  \\\n",
       "39367    9286288            21.0             254.0      62.5      M   \n",
       "63746    8339240             6.0              80.0      26.5      M   \n",
       "23849    7070097            11.0             133.0      53.0      M   \n",
       "13318    9440656             7.0              94.0      63.0      F   \n",
       "2171     2291985             7.0              85.0      41.0      M   \n",
       "\n",
       "       num_account      balance  calls_6_mnth  logons_6_mnth  \n",
       "39367          3.0  16320040.15           6.0            9.0  \n",
       "63746          2.0  12838418.01           3.0            3.0  \n",
       "23849          2.0   8986419.77           6.0            9.0  \n",
       "13318          2.0   8292996.21           6.0            9.0  \n",
       "2171           2.0   8247729.97           1.0            4.0  "
      ]
     },
     "execution_count": 31,
     "metadata": {},
     "output_type": "execute_result"
    }
   ],
   "source": [
    "df_balance = clients.sort_values(by='balance', ascending=[False]).head(100)\n",
    "df_balance.head()"
   ]
  },
  {
   "cell_type": "markdown",
   "id": "032f4a67",
   "metadata": {},
   "source": [
    "### Primary clients "
   ]
  },
  {
   "cell_type": "code",
   "execution_count": 32,
   "id": "e8bf7435",
   "metadata": {},
   "outputs": [
    {
     "data": {
      "text/html": [
       "<div>\n",
       "<style scoped>\n",
       "    .dataframe tbody tr th:only-of-type {\n",
       "        vertical-align: middle;\n",
       "    }\n",
       "\n",
       "    .dataframe tbody tr th {\n",
       "        vertical-align: top;\n",
       "    }\n",
       "\n",
       "    .dataframe thead th {\n",
       "        text-align: right;\n",
       "    }\n",
       "</style>\n",
       "<table border=\"1\" class=\"dataframe\">\n",
       "  <thead>\n",
       "    <tr style=\"text-align: right;\">\n",
       "      <th></th>\n",
       "      <th>client_id</th>\n",
       "      <th>clnt_tenure_yr</th>\n",
       "      <th>clnt_tenure_mnth</th>\n",
       "      <th>clnt_age</th>\n",
       "      <th>gender</th>\n",
       "      <th>num_account</th>\n",
       "      <th>balance</th>\n",
       "      <th>calls_6_mnth</th>\n",
       "      <th>logons_6_mnth</th>\n",
       "    </tr>\n",
       "  </thead>\n",
       "  <tbody>\n",
       "    <tr>\n",
       "      <th>0</th>\n",
       "      <td>357409</td>\n",
       "      <td>62.0</td>\n",
       "      <td>749.0</td>\n",
       "      <td>51.0</td>\n",
       "      <td>F</td>\n",
       "      <td>2.0</td>\n",
       "      <td>317681.78</td>\n",
       "      <td>4.0</td>\n",
       "      <td>4.0</td>\n",
       "    </tr>\n",
       "    <tr>\n",
       "      <th>1</th>\n",
       "      <td>3271450</td>\n",
       "      <td>55.0</td>\n",
       "      <td>669.0</td>\n",
       "      <td>48.5</td>\n",
       "      <td>M</td>\n",
       "      <td>4.0</td>\n",
       "      <td>219932.98</td>\n",
       "      <td>0.0</td>\n",
       "      <td>3.0</td>\n",
       "    </tr>\n",
       "    <tr>\n",
       "      <th>2</th>\n",
       "      <td>6743983</td>\n",
       "      <td>55.0</td>\n",
       "      <td>668.0</td>\n",
       "      <td>46.0</td>\n",
       "      <td>F</td>\n",
       "      <td>2.0</td>\n",
       "      <td>962741.20</td>\n",
       "      <td>6.0</td>\n",
       "      <td>6.0</td>\n",
       "    </tr>\n",
       "    <tr>\n",
       "      <th>3</th>\n",
       "      <td>7616896</td>\n",
       "      <td>55.0</td>\n",
       "      <td>669.0</td>\n",
       "      <td>78.0</td>\n",
       "      <td>U</td>\n",
       "      <td>2.0</td>\n",
       "      <td>45780.56</td>\n",
       "      <td>5.0</td>\n",
       "      <td>8.0</td>\n",
       "    </tr>\n",
       "    <tr>\n",
       "      <th>4</th>\n",
       "      <td>4833584</td>\n",
       "      <td>55.0</td>\n",
       "      <td>669.0</td>\n",
       "      <td>45.0</td>\n",
       "      <td>M</td>\n",
       "      <td>4.0</td>\n",
       "      <td>718973.76</td>\n",
       "      <td>6.0</td>\n",
       "      <td>9.0</td>\n",
       "    </tr>\n",
       "    <tr>\n",
       "      <th>...</th>\n",
       "      <td>...</td>\n",
       "      <td>...</td>\n",
       "      <td>...</td>\n",
       "      <td>...</td>\n",
       "      <td>...</td>\n",
       "      <td>...</td>\n",
       "      <td>...</td>\n",
       "      <td>...</td>\n",
       "      <td>...</td>\n",
       "    </tr>\n",
       "    <tr>\n",
       "      <th>195</th>\n",
       "      <td>9893446</td>\n",
       "      <td>29.0</td>\n",
       "      <td>353.0</td>\n",
       "      <td>65.0</td>\n",
       "      <td>M</td>\n",
       "      <td>3.0</td>\n",
       "      <td>3193269.83</td>\n",
       "      <td>6.0</td>\n",
       "      <td>9.0</td>\n",
       "    </tr>\n",
       "    <tr>\n",
       "      <th>196</th>\n",
       "      <td>2976295</td>\n",
       "      <td>22.0</td>\n",
       "      <td>267.0</td>\n",
       "      <td>49.5</td>\n",
       "      <td>M</td>\n",
       "      <td>3.0</td>\n",
       "      <td>3191837.41</td>\n",
       "      <td>7.0</td>\n",
       "      <td>7.0</td>\n",
       "    </tr>\n",
       "    <tr>\n",
       "      <th>197</th>\n",
       "      <td>4473931</td>\n",
       "      <td>27.0</td>\n",
       "      <td>335.0</td>\n",
       "      <td>65.5</td>\n",
       "      <td>F</td>\n",
       "      <td>3.0</td>\n",
       "      <td>3191769.31</td>\n",
       "      <td>3.0</td>\n",
       "      <td>7.0</td>\n",
       "    </tr>\n",
       "    <tr>\n",
       "      <th>198</th>\n",
       "      <td>8286876</td>\n",
       "      <td>27.0</td>\n",
       "      <td>327.0</td>\n",
       "      <td>57.5</td>\n",
       "      <td>F</td>\n",
       "      <td>3.0</td>\n",
       "      <td>3189564.50</td>\n",
       "      <td>6.0</td>\n",
       "      <td>9.0</td>\n",
       "    </tr>\n",
       "    <tr>\n",
       "      <th>199</th>\n",
       "      <td>4193650</td>\n",
       "      <td>28.0</td>\n",
       "      <td>340.0</td>\n",
       "      <td>43.5</td>\n",
       "      <td>M</td>\n",
       "      <td>3.0</td>\n",
       "      <td>3171343.45</td>\n",
       "      <td>6.0</td>\n",
       "      <td>9.0</td>\n",
       "    </tr>\n",
       "  </tbody>\n",
       "</table>\n",
       "<p>200 rows × 9 columns</p>\n",
       "</div>"
      ],
      "text/plain": [
       "     client_id  clnt_tenure_yr  clnt_tenure_mnth  clnt_age gender  \\\n",
       "0       357409            62.0             749.0      51.0      F   \n",
       "1      3271450            55.0             669.0      48.5      M   \n",
       "2      6743983            55.0             668.0      46.0      F   \n",
       "3      7616896            55.0             669.0      78.0      U   \n",
       "4      4833584            55.0             669.0      45.0      M   \n",
       "..         ...             ...               ...       ...    ...   \n",
       "195    9893446            29.0             353.0      65.0      M   \n",
       "196    2976295            22.0             267.0      49.5      M   \n",
       "197    4473931            27.0             335.0      65.5      F   \n",
       "198    8286876            27.0             327.0      57.5      F   \n",
       "199    4193650            28.0             340.0      43.5      M   \n",
       "\n",
       "     num_account     balance  calls_6_mnth  logons_6_mnth  \n",
       "0            2.0   317681.78           4.0            4.0  \n",
       "1            4.0   219932.98           0.0            3.0  \n",
       "2            2.0   962741.20           6.0            6.0  \n",
       "3            2.0    45780.56           5.0            8.0  \n",
       "4            4.0   718973.76           6.0            9.0  \n",
       "..           ...         ...           ...            ...  \n",
       "195          3.0  3193269.83           6.0            9.0  \n",
       "196          3.0  3191837.41           7.0            7.0  \n",
       "197          3.0  3191769.31           3.0            7.0  \n",
       "198          3.0  3189564.50           6.0            9.0  \n",
       "199          3.0  3171343.45           6.0            9.0  \n",
       "\n",
       "[200 rows x 9 columns]"
      ]
     },
     "execution_count": 32,
     "metadata": {},
     "output_type": "execute_result"
    }
   ],
   "source": [
    "primary_clients = pd.concat([df_year, df_balance], ignore_index=True)\n",
    "primary_clients"
   ]
  },
  {
   "cell_type": "code",
   "execution_count": 33,
   "id": "2d79d53f",
   "metadata": {},
   "outputs": [
    {
     "data": {
      "text/html": [
       "<div>\n",
       "<style scoped>\n",
       "    .dataframe tbody tr th:only-of-type {\n",
       "        vertical-align: middle;\n",
       "    }\n",
       "\n",
       "    .dataframe tbody tr th {\n",
       "        vertical-align: top;\n",
       "    }\n",
       "\n",
       "    .dataframe thead th {\n",
       "        text-align: right;\n",
       "    }\n",
       "</style>\n",
       "<table border=\"1\" class=\"dataframe\">\n",
       "  <thead>\n",
       "    <tr style=\"text-align: right;\">\n",
       "      <th></th>\n",
       "      <th>client_id</th>\n",
       "      <th>clnt_tenure_yr</th>\n",
       "      <th>clnt_tenure_mnth</th>\n",
       "      <th>clnt_age</th>\n",
       "      <th>gender</th>\n",
       "      <th>num_account</th>\n",
       "      <th>balance</th>\n",
       "      <th>calls_6_mnth</th>\n",
       "      <th>logons_6_mnth</th>\n",
       "    </tr>\n",
       "  </thead>\n",
       "  <tbody>\n",
       "    <tr>\n",
       "      <th>0</th>\n",
       "      <td>357409</td>\n",
       "      <td>62.0</td>\n",
       "      <td>749.0</td>\n",
       "      <td>51.0</td>\n",
       "      <td>F</td>\n",
       "      <td>2.0</td>\n",
       "      <td>317681.78</td>\n",
       "      <td>4.0</td>\n",
       "      <td>4.0</td>\n",
       "    </tr>\n",
       "    <tr>\n",
       "      <th>1</th>\n",
       "      <td>3271450</td>\n",
       "      <td>55.0</td>\n",
       "      <td>669.0</td>\n",
       "      <td>48.5</td>\n",
       "      <td>M</td>\n",
       "      <td>4.0</td>\n",
       "      <td>219932.98</td>\n",
       "      <td>0.0</td>\n",
       "      <td>3.0</td>\n",
       "    </tr>\n",
       "    <tr>\n",
       "      <th>2</th>\n",
       "      <td>6743983</td>\n",
       "      <td>55.0</td>\n",
       "      <td>668.0</td>\n",
       "      <td>46.0</td>\n",
       "      <td>F</td>\n",
       "      <td>2.0</td>\n",
       "      <td>962741.20</td>\n",
       "      <td>6.0</td>\n",
       "      <td>6.0</td>\n",
       "    </tr>\n",
       "    <tr>\n",
       "      <th>3</th>\n",
       "      <td>7616896</td>\n",
       "      <td>55.0</td>\n",
       "      <td>669.0</td>\n",
       "      <td>78.0</td>\n",
       "      <td>U</td>\n",
       "      <td>2.0</td>\n",
       "      <td>45780.56</td>\n",
       "      <td>5.0</td>\n",
       "      <td>8.0</td>\n",
       "    </tr>\n",
       "    <tr>\n",
       "      <th>4</th>\n",
       "      <td>4833584</td>\n",
       "      <td>55.0</td>\n",
       "      <td>669.0</td>\n",
       "      <td>45.0</td>\n",
       "      <td>M</td>\n",
       "      <td>4.0</td>\n",
       "      <td>718973.76</td>\n",
       "      <td>6.0</td>\n",
       "      <td>9.0</td>\n",
       "    </tr>\n",
       "  </tbody>\n",
       "</table>\n",
       "</div>"
      ],
      "text/plain": [
       "   client_id  clnt_tenure_yr  clnt_tenure_mnth  clnt_age gender  num_account  \\\n",
       "0     357409            62.0             749.0      51.0      F          2.0   \n",
       "1    3271450            55.0             669.0      48.5      M          4.0   \n",
       "2    6743983            55.0             668.0      46.0      F          2.0   \n",
       "3    7616896            55.0             669.0      78.0      U          2.0   \n",
       "4    4833584            55.0             669.0      45.0      M          4.0   \n",
       "\n",
       "     balance  calls_6_mnth  logons_6_mnth  \n",
       "0  317681.78           4.0            4.0  \n",
       "1  219932.98           0.0            3.0  \n",
       "2  962741.20           6.0            6.0  \n",
       "3   45780.56           5.0            8.0  \n",
       "4  718973.76           6.0            9.0  "
      ]
     },
     "execution_count": 33,
     "metadata": {},
     "output_type": "execute_result"
    }
   ],
   "source": [
    "primary_clients.head()"
   ]
  },
  {
   "cell_type": "markdown",
   "id": "ea69c116",
   "metadata": {},
   "source": [
    "2. Are the primary clients younger or older, new or long-standing?"
   ]
  },
  {
   "cell_type": "code",
   "execution_count": 34,
   "id": "7d855795",
   "metadata": {},
   "outputs": [],
   "source": [
    "def age_classification(age):\n",
    "    if age >= 18.0 and age <= 30.0:\n",
    "        return 'young'\n",
    "    elif age >= 31.0 and age <= 50.0:\n",
    "        return 'adult'\n",
    "    else:\n",
    "        return 'old'"
   ]
  },
  {
   "cell_type": "code",
   "execution_count": 35,
   "id": "892d4108",
   "metadata": {},
   "outputs": [],
   "source": [
    "# Aplicar la función a la columna 'clnt_age' para crear una nueva columna 'edad_grupo'\n",
    "primary_clients['age_group'] = primary_clients['clnt_age'].apply(age_classification)"
   ]
  },
  {
   "cell_type": "code",
   "execution_count": 36,
   "id": "9de0ff06",
   "metadata": {},
   "outputs": [
    {
     "data": {
      "text/html": [
       "<div>\n",
       "<style scoped>\n",
       "    .dataframe tbody tr th:only-of-type {\n",
       "        vertical-align: middle;\n",
       "    }\n",
       "\n",
       "    .dataframe tbody tr th {\n",
       "        vertical-align: top;\n",
       "    }\n",
       "\n",
       "    .dataframe thead th {\n",
       "        text-align: right;\n",
       "    }\n",
       "</style>\n",
       "<table border=\"1\" class=\"dataframe\">\n",
       "  <thead>\n",
       "    <tr style=\"text-align: right;\">\n",
       "      <th></th>\n",
       "      <th>client_id</th>\n",
       "      <th>clnt_tenure_yr</th>\n",
       "      <th>clnt_tenure_mnth</th>\n",
       "      <th>clnt_age</th>\n",
       "      <th>gender</th>\n",
       "      <th>num_account</th>\n",
       "      <th>balance</th>\n",
       "      <th>calls_6_mnth</th>\n",
       "      <th>logons_6_mnth</th>\n",
       "      <th>age_group</th>\n",
       "    </tr>\n",
       "  </thead>\n",
       "  <tbody>\n",
       "    <tr>\n",
       "      <th>0</th>\n",
       "      <td>357409</td>\n",
       "      <td>62.0</td>\n",
       "      <td>749.0</td>\n",
       "      <td>51.0</td>\n",
       "      <td>F</td>\n",
       "      <td>2.0</td>\n",
       "      <td>317681.78</td>\n",
       "      <td>4.0</td>\n",
       "      <td>4.0</td>\n",
       "      <td>old</td>\n",
       "    </tr>\n",
       "    <tr>\n",
       "      <th>1</th>\n",
       "      <td>3271450</td>\n",
       "      <td>55.0</td>\n",
       "      <td>669.0</td>\n",
       "      <td>48.5</td>\n",
       "      <td>M</td>\n",
       "      <td>4.0</td>\n",
       "      <td>219932.98</td>\n",
       "      <td>0.0</td>\n",
       "      <td>3.0</td>\n",
       "      <td>adult</td>\n",
       "    </tr>\n",
       "    <tr>\n",
       "      <th>2</th>\n",
       "      <td>6743983</td>\n",
       "      <td>55.0</td>\n",
       "      <td>668.0</td>\n",
       "      <td>46.0</td>\n",
       "      <td>F</td>\n",
       "      <td>2.0</td>\n",
       "      <td>962741.20</td>\n",
       "      <td>6.0</td>\n",
       "      <td>6.0</td>\n",
       "      <td>adult</td>\n",
       "    </tr>\n",
       "    <tr>\n",
       "      <th>3</th>\n",
       "      <td>7616896</td>\n",
       "      <td>55.0</td>\n",
       "      <td>669.0</td>\n",
       "      <td>78.0</td>\n",
       "      <td>U</td>\n",
       "      <td>2.0</td>\n",
       "      <td>45780.56</td>\n",
       "      <td>5.0</td>\n",
       "      <td>8.0</td>\n",
       "      <td>old</td>\n",
       "    </tr>\n",
       "    <tr>\n",
       "      <th>4</th>\n",
       "      <td>4833584</td>\n",
       "      <td>55.0</td>\n",
       "      <td>669.0</td>\n",
       "      <td>45.0</td>\n",
       "      <td>M</td>\n",
       "      <td>4.0</td>\n",
       "      <td>718973.76</td>\n",
       "      <td>6.0</td>\n",
       "      <td>9.0</td>\n",
       "      <td>adult</td>\n",
       "    </tr>\n",
       "  </tbody>\n",
       "</table>\n",
       "</div>"
      ],
      "text/plain": [
       "   client_id  clnt_tenure_yr  clnt_tenure_mnth  clnt_age gender  num_account  \\\n",
       "0     357409            62.0             749.0      51.0      F          2.0   \n",
       "1    3271450            55.0             669.0      48.5      M          4.0   \n",
       "2    6743983            55.0             668.0      46.0      F          2.0   \n",
       "3    7616896            55.0             669.0      78.0      U          2.0   \n",
       "4    4833584            55.0             669.0      45.0      M          4.0   \n",
       "\n",
       "     balance  calls_6_mnth  logons_6_mnth age_group  \n",
       "0  317681.78           4.0            4.0       old  \n",
       "1  219932.98           0.0            3.0     adult  \n",
       "2  962741.20           6.0            6.0     adult  \n",
       "3   45780.56           5.0            8.0       old  \n",
       "4  718973.76           6.0            9.0     adult  "
      ]
     },
     "execution_count": 36,
     "metadata": {},
     "output_type": "execute_result"
    }
   ],
   "source": [
    "primary_clients.head()"
   ]
  },
  {
   "cell_type": "code",
   "execution_count": 37,
   "id": "d9d8e188",
   "metadata": {},
   "outputs": [
    {
     "data": {
      "text/plain": [
       "age_group\n",
       "old      154\n",
       "adult     43\n",
       "young      3\n",
       "Name: count, dtype: int64"
      ]
     },
     "execution_count": 37,
     "metadata": {},
     "output_type": "execute_result"
    }
   ],
   "source": [
    "primary_clients['age_group'].value_counts()"
   ]
  },
  {
   "cell_type": "markdown",
   "id": "525912ea",
   "metadata": {},
   "source": [
    "The primary clients are mostly older."
   ]
  },
  {
   "cell_type": "code",
   "execution_count": 38,
   "id": "c3a4e7c7",
   "metadata": {},
   "outputs": [],
   "source": [
    "def get_tenure_year(tenure):\n",
    "    if tenure >= 0.0 and tenure <= 10.0:\n",
    "        return 'new standing'\n",
    "    elif tenure >= 11.0 and tenure <= 20.0:\n",
    "        return 'mid standing'\n",
    "    else:\n",
    "        return 'long standing'"
   ]
  },
  {
   "cell_type": "code",
   "execution_count": 39,
   "id": "f6e8b23c",
   "metadata": {},
   "outputs": [],
   "source": [
    "# Aplicar la función a la columna 'clnt_age' para crear una nueva columna 'edad_grupo'\n",
    "primary_clients['tenure_group'] = primary_clients['clnt_tenure_yr'].apply(get_tenure_year)"
   ]
  },
  {
   "cell_type": "code",
   "execution_count": 40,
   "id": "c80cf545",
   "metadata": {},
   "outputs": [],
   "source": [
    "primary_clients.to_csv('primary_clients.csv', index=False)"
   ]
  },
  {
   "cell_type": "code",
   "execution_count": 41,
   "id": "514ba729",
   "metadata": {},
   "outputs": [
    {
     "data": {
      "text/html": [
       "<div>\n",
       "<style scoped>\n",
       "    .dataframe tbody tr th:only-of-type {\n",
       "        vertical-align: middle;\n",
       "    }\n",
       "\n",
       "    .dataframe tbody tr th {\n",
       "        vertical-align: top;\n",
       "    }\n",
       "\n",
       "    .dataframe thead th {\n",
       "        text-align: right;\n",
       "    }\n",
       "</style>\n",
       "<table border=\"1\" class=\"dataframe\">\n",
       "  <thead>\n",
       "    <tr style=\"text-align: right;\">\n",
       "      <th></th>\n",
       "      <th>client_id</th>\n",
       "      <th>clnt_tenure_yr</th>\n",
       "      <th>clnt_tenure_mnth</th>\n",
       "      <th>clnt_age</th>\n",
       "      <th>gender</th>\n",
       "      <th>num_account</th>\n",
       "      <th>balance</th>\n",
       "      <th>calls_6_mnth</th>\n",
       "      <th>logons_6_mnth</th>\n",
       "      <th>age_group</th>\n",
       "      <th>tenure_group</th>\n",
       "    </tr>\n",
       "  </thead>\n",
       "  <tbody>\n",
       "    <tr>\n",
       "      <th>0</th>\n",
       "      <td>357409</td>\n",
       "      <td>62.0</td>\n",
       "      <td>749.0</td>\n",
       "      <td>51.0</td>\n",
       "      <td>F</td>\n",
       "      <td>2.0</td>\n",
       "      <td>317681.78</td>\n",
       "      <td>4.0</td>\n",
       "      <td>4.0</td>\n",
       "      <td>old</td>\n",
       "      <td>long standing</td>\n",
       "    </tr>\n",
       "    <tr>\n",
       "      <th>1</th>\n",
       "      <td>3271450</td>\n",
       "      <td>55.0</td>\n",
       "      <td>669.0</td>\n",
       "      <td>48.5</td>\n",
       "      <td>M</td>\n",
       "      <td>4.0</td>\n",
       "      <td>219932.98</td>\n",
       "      <td>0.0</td>\n",
       "      <td>3.0</td>\n",
       "      <td>adult</td>\n",
       "      <td>long standing</td>\n",
       "    </tr>\n",
       "    <tr>\n",
       "      <th>2</th>\n",
       "      <td>6743983</td>\n",
       "      <td>55.0</td>\n",
       "      <td>668.0</td>\n",
       "      <td>46.0</td>\n",
       "      <td>F</td>\n",
       "      <td>2.0</td>\n",
       "      <td>962741.20</td>\n",
       "      <td>6.0</td>\n",
       "      <td>6.0</td>\n",
       "      <td>adult</td>\n",
       "      <td>long standing</td>\n",
       "    </tr>\n",
       "    <tr>\n",
       "      <th>3</th>\n",
       "      <td>7616896</td>\n",
       "      <td>55.0</td>\n",
       "      <td>669.0</td>\n",
       "      <td>78.0</td>\n",
       "      <td>U</td>\n",
       "      <td>2.0</td>\n",
       "      <td>45780.56</td>\n",
       "      <td>5.0</td>\n",
       "      <td>8.0</td>\n",
       "      <td>old</td>\n",
       "      <td>long standing</td>\n",
       "    </tr>\n",
       "    <tr>\n",
       "      <th>4</th>\n",
       "      <td>4833584</td>\n",
       "      <td>55.0</td>\n",
       "      <td>669.0</td>\n",
       "      <td>45.0</td>\n",
       "      <td>M</td>\n",
       "      <td>4.0</td>\n",
       "      <td>718973.76</td>\n",
       "      <td>6.0</td>\n",
       "      <td>9.0</td>\n",
       "      <td>adult</td>\n",
       "      <td>long standing</td>\n",
       "    </tr>\n",
       "  </tbody>\n",
       "</table>\n",
       "</div>"
      ],
      "text/plain": [
       "   client_id  clnt_tenure_yr  clnt_tenure_mnth  clnt_age gender  num_account  \\\n",
       "0     357409            62.0             749.0      51.0      F          2.0   \n",
       "1    3271450            55.0             669.0      48.5      M          4.0   \n",
       "2    6743983            55.0             668.0      46.0      F          2.0   \n",
       "3    7616896            55.0             669.0      78.0      U          2.0   \n",
       "4    4833584            55.0             669.0      45.0      M          4.0   \n",
       "\n",
       "     balance  calls_6_mnth  logons_6_mnth age_group   tenure_group  \n",
       "0  317681.78           4.0            4.0       old  long standing  \n",
       "1  219932.98           0.0            3.0     adult  long standing  \n",
       "2  962741.20           6.0            6.0     adult  long standing  \n",
       "3   45780.56           5.0            8.0       old  long standing  \n",
       "4  718973.76           6.0            9.0     adult  long standing  "
      ]
     },
     "execution_count": 41,
     "metadata": {},
     "output_type": "execute_result"
    }
   ],
   "source": [
    "primary_clients.head()"
   ]
  },
  {
   "cell_type": "code",
   "execution_count": 42,
   "id": "c052bdbf",
   "metadata": {},
   "outputs": [
    {
     "data": {
      "text/html": [
       "<div>\n",
       "<style scoped>\n",
       "    .dataframe tbody tr th:only-of-type {\n",
       "        vertical-align: middle;\n",
       "    }\n",
       "\n",
       "    .dataframe tbody tr th {\n",
       "        vertical-align: top;\n",
       "    }\n",
       "\n",
       "    .dataframe thead th {\n",
       "        text-align: right;\n",
       "    }\n",
       "</style>\n",
       "<table border=\"1\" class=\"dataframe\">\n",
       "  <thead>\n",
       "    <tr style=\"text-align: right;\">\n",
       "      <th>age_group</th>\n",
       "      <th>adult</th>\n",
       "      <th>old</th>\n",
       "      <th>young</th>\n",
       "    </tr>\n",
       "    <tr>\n",
       "      <th>tenure_group</th>\n",
       "      <th></th>\n",
       "      <th></th>\n",
       "      <th></th>\n",
       "    </tr>\n",
       "  </thead>\n",
       "  <tbody>\n",
       "    <tr>\n",
       "      <th>long standing</th>\n",
       "      <td>31</td>\n",
       "      <td>123</td>\n",
       "      <td>2</td>\n",
       "    </tr>\n",
       "    <tr>\n",
       "      <th>mid standing</th>\n",
       "      <td>6</td>\n",
       "      <td>24</td>\n",
       "      <td>0</td>\n",
       "    </tr>\n",
       "    <tr>\n",
       "      <th>new standing</th>\n",
       "      <td>6</td>\n",
       "      <td>7</td>\n",
       "      <td>1</td>\n",
       "    </tr>\n",
       "  </tbody>\n",
       "</table>\n",
       "</div>"
      ],
      "text/plain": [
       "age_group      adult  old  young\n",
       "tenure_group                    \n",
       "long standing     31  123      2\n",
       "mid standing       6   24      0\n",
       "new standing       6    7      1"
      ]
     },
     "execution_count": 42,
     "metadata": {},
     "output_type": "execute_result"
    }
   ],
   "source": [
    "pivot_table_pclients = primary_clients.pivot_table(index='tenure_group', columns='age_group', aggfunc='size', fill_value=0)\n",
    "pivot_table_pclients"
   ]
  },
  {
   "cell_type": "markdown",
   "id": "b47acbef",
   "metadata": {},
   "source": [
    "### MERGE DATAFRAME WITH TEST Y CONTROL"
   ]
  },
  {
   "cell_type": "code",
   "execution_count": 43,
   "id": "e1ac7ab7",
   "metadata": {},
   "outputs": [
    {
     "data": {
      "text/html": [
       "<div>\n",
       "<style scoped>\n",
       "    .dataframe tbody tr th:only-of-type {\n",
       "        vertical-align: middle;\n",
       "    }\n",
       "\n",
       "    .dataframe tbody tr th {\n",
       "        vertical-align: top;\n",
       "    }\n",
       "\n",
       "    .dataframe thead th {\n",
       "        text-align: right;\n",
       "    }\n",
       "</style>\n",
       "<table border=\"1\" class=\"dataframe\">\n",
       "  <thead>\n",
       "    <tr style=\"text-align: right;\">\n",
       "      <th></th>\n",
       "      <th>client_id</th>\n",
       "      <th>visitor_id</th>\n",
       "      <th>visit_id</th>\n",
       "      <th>process_step</th>\n",
       "      <th>date_time</th>\n",
       "      <th>variation</th>\n",
       "    </tr>\n",
       "  </thead>\n",
       "  <tbody>\n",
       "    <tr>\n",
       "      <th>0</th>\n",
       "      <td>9988021</td>\n",
       "      <td>580560515_7732621733</td>\n",
       "      <td>781255054_21935453173_531117</td>\n",
       "      <td>step_3</td>\n",
       "      <td>2017-04-17 15:27:07</td>\n",
       "      <td>Test</td>\n",
       "    </tr>\n",
       "    <tr>\n",
       "      <th>1</th>\n",
       "      <td>9988021</td>\n",
       "      <td>580560515_7732621733</td>\n",
       "      <td>781255054_21935453173_531117</td>\n",
       "      <td>step_2</td>\n",
       "      <td>2017-04-17 15:26:51</td>\n",
       "      <td>Test</td>\n",
       "    </tr>\n",
       "    <tr>\n",
       "      <th>2</th>\n",
       "      <td>9988021</td>\n",
       "      <td>580560515_7732621733</td>\n",
       "      <td>781255054_21935453173_531117</td>\n",
       "      <td>step_3</td>\n",
       "      <td>2017-04-17 15:19:22</td>\n",
       "      <td>Test</td>\n",
       "    </tr>\n",
       "    <tr>\n",
       "      <th>3</th>\n",
       "      <td>9988021</td>\n",
       "      <td>580560515_7732621733</td>\n",
       "      <td>781255054_21935453173_531117</td>\n",
       "      <td>step_2</td>\n",
       "      <td>2017-04-17 15:19:13</td>\n",
       "      <td>Test</td>\n",
       "    </tr>\n",
       "    <tr>\n",
       "      <th>4</th>\n",
       "      <td>9988021</td>\n",
       "      <td>580560515_7732621733</td>\n",
       "      <td>781255054_21935453173_531117</td>\n",
       "      <td>step_3</td>\n",
       "      <td>2017-04-17 15:18:04</td>\n",
       "      <td>Test</td>\n",
       "    </tr>\n",
       "    <tr>\n",
       "      <th>...</th>\n",
       "      <td>...</td>\n",
       "      <td>...</td>\n",
       "      <td>...</td>\n",
       "      <td>...</td>\n",
       "      <td>...</td>\n",
       "      <td>...</td>\n",
       "    </tr>\n",
       "    <tr>\n",
       "      <th>744636</th>\n",
       "      <td>9668240</td>\n",
       "      <td>388766751_9038881013</td>\n",
       "      <td>922267647_3096648104_968866</td>\n",
       "      <td>start</td>\n",
       "      <td>2017-05-24 18:46:10</td>\n",
       "      <td>NaN</td>\n",
       "    </tr>\n",
       "    <tr>\n",
       "      <th>744637</th>\n",
       "      <td>9668240</td>\n",
       "      <td>388766751_9038881013</td>\n",
       "      <td>922267647_3096648104_968866</td>\n",
       "      <td>start</td>\n",
       "      <td>2017-05-24 18:45:29</td>\n",
       "      <td>NaN</td>\n",
       "    </tr>\n",
       "    <tr>\n",
       "      <th>744638</th>\n",
       "      <td>9668240</td>\n",
       "      <td>388766751_9038881013</td>\n",
       "      <td>922267647_3096648104_968866</td>\n",
       "      <td>step_1</td>\n",
       "      <td>2017-05-24 18:44:51</td>\n",
       "      <td>NaN</td>\n",
       "    </tr>\n",
       "    <tr>\n",
       "      <th>744639</th>\n",
       "      <td>9668240</td>\n",
       "      <td>388766751_9038881013</td>\n",
       "      <td>922267647_3096648104_968866</td>\n",
       "      <td>start</td>\n",
       "      <td>2017-05-24 18:44:34</td>\n",
       "      <td>NaN</td>\n",
       "    </tr>\n",
       "    <tr>\n",
       "      <th>744640</th>\n",
       "      <td>674799</td>\n",
       "      <td>947159805_81558194550</td>\n",
       "      <td>86152093_47511127657_716022</td>\n",
       "      <td>start</td>\n",
       "      <td>2017-06-03 12:17:09</td>\n",
       "      <td>NaN</td>\n",
       "    </tr>\n",
       "  </tbody>\n",
       "</table>\n",
       "<p>744641 rows × 6 columns</p>\n",
       "</div>"
      ],
      "text/plain": [
       "        client_id             visitor_id                      visit_id  \\\n",
       "0         9988021   580560515_7732621733  781255054_21935453173_531117   \n",
       "1         9988021   580560515_7732621733  781255054_21935453173_531117   \n",
       "2         9988021   580560515_7732621733  781255054_21935453173_531117   \n",
       "3         9988021   580560515_7732621733  781255054_21935453173_531117   \n",
       "4         9988021   580560515_7732621733  781255054_21935453173_531117   \n",
       "...           ...                    ...                           ...   \n",
       "744636    9668240   388766751_9038881013   922267647_3096648104_968866   \n",
       "744637    9668240   388766751_9038881013   922267647_3096648104_968866   \n",
       "744638    9668240   388766751_9038881013   922267647_3096648104_968866   \n",
       "744639    9668240   388766751_9038881013   922267647_3096648104_968866   \n",
       "744640     674799  947159805_81558194550   86152093_47511127657_716022   \n",
       "\n",
       "       process_step            date_time variation  \n",
       "0            step_3  2017-04-17 15:27:07      Test  \n",
       "1            step_2  2017-04-17 15:26:51      Test  \n",
       "2            step_3  2017-04-17 15:19:22      Test  \n",
       "3            step_2  2017-04-17 15:19:13      Test  \n",
       "4            step_3  2017-04-17 15:18:04      Test  \n",
       "...             ...                  ...       ...  \n",
       "744636        start  2017-05-24 18:46:10       NaN  \n",
       "744637        start  2017-05-24 18:45:29       NaN  \n",
       "744638       step_1  2017-05-24 18:44:51       NaN  \n",
       "744639        start  2017-05-24 18:44:34       NaN  \n",
       "744640        start  2017-06-03 12:17:09       NaN  \n",
       "\n",
       "[744641 rows x 6 columns]"
      ]
     },
     "execution_count": 43,
     "metadata": {},
     "output_type": "execute_result"
    }
   ],
   "source": [
    "merge_df = pd.merge(web_data, experiment, on='client_id', how='left')\n",
    "merge_df"
   ]
  },
  {
   "cell_type": "code",
   "execution_count": 44,
   "id": "1af6d31a",
   "metadata": {},
   "outputs": [
    {
     "data": {
      "text/plain": [
       "array(['Test', 'Control', nan, 'No participate'], dtype=object)"
      ]
     },
     "execution_count": 44,
     "metadata": {},
     "output_type": "execute_result"
    }
   ],
   "source": [
    "merge_df['variation'].unique()"
   ]
  },
  {
   "cell_type": "code",
   "execution_count": 45,
   "id": "5585e830",
   "metadata": {},
   "outputs": [
    {
     "data": {
      "text/html": [
       "<div>\n",
       "<style scoped>\n",
       "    .dataframe tbody tr th:only-of-type {\n",
       "        vertical-align: middle;\n",
       "    }\n",
       "\n",
       "    .dataframe tbody tr th {\n",
       "        vertical-align: top;\n",
       "    }\n",
       "\n",
       "    .dataframe thead th {\n",
       "        text-align: right;\n",
       "    }\n",
       "</style>\n",
       "<table border=\"1\" class=\"dataframe\">\n",
       "  <thead>\n",
       "    <tr style=\"text-align: right;\">\n",
       "      <th></th>\n",
       "      <th>client_id</th>\n",
       "      <th>visitor_id</th>\n",
       "      <th>visit_id</th>\n",
       "      <th>process_step</th>\n",
       "      <th>date_time</th>\n",
       "      <th>variation</th>\n",
       "    </tr>\n",
       "  </thead>\n",
       "  <tbody>\n",
       "    <tr>\n",
       "      <th>0</th>\n",
       "      <td>9988021</td>\n",
       "      <td>580560515_7732621733</td>\n",
       "      <td>781255054_21935453173_531117</td>\n",
       "      <td>step_3</td>\n",
       "      <td>2017-04-17 15:27:07</td>\n",
       "      <td>Test</td>\n",
       "    </tr>\n",
       "    <tr>\n",
       "      <th>1</th>\n",
       "      <td>9988021</td>\n",
       "      <td>580560515_7732621733</td>\n",
       "      <td>781255054_21935453173_531117</td>\n",
       "      <td>step_2</td>\n",
       "      <td>2017-04-17 15:26:51</td>\n",
       "      <td>Test</td>\n",
       "    </tr>\n",
       "    <tr>\n",
       "      <th>2</th>\n",
       "      <td>9988021</td>\n",
       "      <td>580560515_7732621733</td>\n",
       "      <td>781255054_21935453173_531117</td>\n",
       "      <td>step_3</td>\n",
       "      <td>2017-04-17 15:19:22</td>\n",
       "      <td>Test</td>\n",
       "    </tr>\n",
       "    <tr>\n",
       "      <th>3</th>\n",
       "      <td>9988021</td>\n",
       "      <td>580560515_7732621733</td>\n",
       "      <td>781255054_21935453173_531117</td>\n",
       "      <td>step_2</td>\n",
       "      <td>2017-04-17 15:19:13</td>\n",
       "      <td>Test</td>\n",
       "    </tr>\n",
       "    <tr>\n",
       "      <th>4</th>\n",
       "      <td>9988021</td>\n",
       "      <td>580560515_7732621733</td>\n",
       "      <td>781255054_21935453173_531117</td>\n",
       "      <td>step_3</td>\n",
       "      <td>2017-04-17 15:18:04</td>\n",
       "      <td>Test</td>\n",
       "    </tr>\n",
       "    <tr>\n",
       "      <th>...</th>\n",
       "      <td>...</td>\n",
       "      <td>...</td>\n",
       "      <td>...</td>\n",
       "      <td>...</td>\n",
       "      <td>...</td>\n",
       "      <td>...</td>\n",
       "    </tr>\n",
       "    <tr>\n",
       "      <th>629299</th>\n",
       "      <td>1574008</td>\n",
       "      <td>117364417_77840596075</td>\n",
       "      <td>528720790_71583064618_169151</td>\n",
       "      <td>confirm</td>\n",
       "      <td>2017-05-06 23:51:05</td>\n",
       "      <td>Test</td>\n",
       "    </tr>\n",
       "    <tr>\n",
       "      <th>629300</th>\n",
       "      <td>1574008</td>\n",
       "      <td>117364417_77840596075</td>\n",
       "      <td>528720790_71583064618_169151</td>\n",
       "      <td>step_3</td>\n",
       "      <td>2017-05-06 23:50:40</td>\n",
       "      <td>Test</td>\n",
       "    </tr>\n",
       "    <tr>\n",
       "      <th>629301</th>\n",
       "      <td>1574008</td>\n",
       "      <td>117364417_77840596075</td>\n",
       "      <td>528720790_71583064618_169151</td>\n",
       "      <td>step_2</td>\n",
       "      <td>2017-05-06 23:43:47</td>\n",
       "      <td>Test</td>\n",
       "    </tr>\n",
       "    <tr>\n",
       "      <th>629302</th>\n",
       "      <td>1574008</td>\n",
       "      <td>117364417_77840596075</td>\n",
       "      <td>528720790_71583064618_169151</td>\n",
       "      <td>step_1</td>\n",
       "      <td>2017-05-06 23:43:34</td>\n",
       "      <td>Test</td>\n",
       "    </tr>\n",
       "    <tr>\n",
       "      <th>629303</th>\n",
       "      <td>1574008</td>\n",
       "      <td>117364417_77840596075</td>\n",
       "      <td>528720790_71583064618_169151</td>\n",
       "      <td>start</td>\n",
       "      <td>2017-05-06 23:43:27</td>\n",
       "      <td>Test</td>\n",
       "    </tr>\n",
       "  </tbody>\n",
       "</table>\n",
       "<p>176699 rows × 6 columns</p>\n",
       "</div>"
      ],
      "text/plain": [
       "        client_id             visitor_id                      visit_id  \\\n",
       "0         9988021   580560515_7732621733  781255054_21935453173_531117   \n",
       "1         9988021   580560515_7732621733  781255054_21935453173_531117   \n",
       "2         9988021   580560515_7732621733  781255054_21935453173_531117   \n",
       "3         9988021   580560515_7732621733  781255054_21935453173_531117   \n",
       "4         9988021   580560515_7732621733  781255054_21935453173_531117   \n",
       "...           ...                    ...                           ...   \n",
       "629299    1574008  117364417_77840596075  528720790_71583064618_169151   \n",
       "629300    1574008  117364417_77840596075  528720790_71583064618_169151   \n",
       "629301    1574008  117364417_77840596075  528720790_71583064618_169151   \n",
       "629302    1574008  117364417_77840596075  528720790_71583064618_169151   \n",
       "629303    1574008  117364417_77840596075  528720790_71583064618_169151   \n",
       "\n",
       "       process_step            date_time variation  \n",
       "0            step_3  2017-04-17 15:27:07      Test  \n",
       "1            step_2  2017-04-17 15:26:51      Test  \n",
       "2            step_3  2017-04-17 15:19:22      Test  \n",
       "3            step_2  2017-04-17 15:19:13      Test  \n",
       "4            step_3  2017-04-17 15:18:04      Test  \n",
       "...             ...                  ...       ...  \n",
       "629299      confirm  2017-05-06 23:51:05      Test  \n",
       "629300       step_3  2017-05-06 23:50:40      Test  \n",
       "629301       step_2  2017-05-06 23:43:47      Test  \n",
       "629302       step_1  2017-05-06 23:43:34      Test  \n",
       "629303        start  2017-05-06 23:43:27      Test  \n",
       "\n",
       "[176699 rows x 6 columns]"
      ]
     },
     "execution_count": 45,
     "metadata": {},
     "output_type": "execute_result"
    }
   ],
   "source": [
    "#Separamos los df segun test y creamos un df_test\n",
    "df_test = merge_df.loc[merge_df['variation'] == 'Test']\n",
    "df_test"
   ]
  },
  {
   "cell_type": "code",
   "execution_count": 46,
   "id": "3850778c",
   "metadata": {},
   "outputs": [
    {
     "data": {
      "text/plain": [
       "(176699, 6)"
      ]
     },
     "execution_count": 46,
     "metadata": {},
     "output_type": "execute_result"
    }
   ],
   "source": [
    "df_test.shape"
   ]
  },
  {
   "cell_type": "code",
   "execution_count": 47,
   "id": "3337f106",
   "metadata": {},
   "outputs": [],
   "source": [
    "df_test = df_test.drop_duplicates()"
   ]
  },
  {
   "cell_type": "code",
   "execution_count": 48,
   "id": "19dae176",
   "metadata": {},
   "outputs": [
    {
     "data": {
      "text/plain": [
       "(176699, 6)"
      ]
     },
     "execution_count": 48,
     "metadata": {},
     "output_type": "execute_result"
    }
   ],
   "source": [
    "df_test.shape"
   ]
  },
  {
   "cell_type": "code",
   "execution_count": 49,
   "id": "41cc7a0f",
   "metadata": {},
   "outputs": [
    {
     "data": {
      "text/html": [
       "<div>\n",
       "<style scoped>\n",
       "    .dataframe tbody tr th:only-of-type {\n",
       "        vertical-align: middle;\n",
       "    }\n",
       "\n",
       "    .dataframe tbody tr th {\n",
       "        vertical-align: top;\n",
       "    }\n",
       "\n",
       "    .dataframe thead th {\n",
       "        text-align: right;\n",
       "    }\n",
       "</style>\n",
       "<table border=\"1\" class=\"dataframe\">\n",
       "  <thead>\n",
       "    <tr style=\"text-align: right;\">\n",
       "      <th></th>\n",
       "      <th>client_id</th>\n",
       "      <th>visitor_id</th>\n",
       "      <th>visit_id</th>\n",
       "      <th>process_step</th>\n",
       "      <th>date_time</th>\n",
       "      <th>variation</th>\n",
       "    </tr>\n",
       "  </thead>\n",
       "  <tbody>\n",
       "    <tr>\n",
       "      <th>13</th>\n",
       "      <td>4033851</td>\n",
       "      <td>762728880_76361333336</td>\n",
       "      <td>949661017_22392791362_127391</td>\n",
       "      <td>confirm</td>\n",
       "      <td>2017-04-05 12:29:03</td>\n",
       "      <td>Control</td>\n",
       "    </tr>\n",
       "    <tr>\n",
       "      <th>14</th>\n",
       "      <td>4033851</td>\n",
       "      <td>762728880_76361333336</td>\n",
       "      <td>949661017_22392791362_127391</td>\n",
       "      <td>confirm</td>\n",
       "      <td>2017-04-05 12:29:01</td>\n",
       "      <td>Control</td>\n",
       "    </tr>\n",
       "    <tr>\n",
       "      <th>15</th>\n",
       "      <td>4033851</td>\n",
       "      <td>762728880_76361333336</td>\n",
       "      <td>949661017_22392791362_127391</td>\n",
       "      <td>confirm</td>\n",
       "      <td>2017-04-05 12:28:52</td>\n",
       "      <td>Control</td>\n",
       "    </tr>\n",
       "    <tr>\n",
       "      <th>16</th>\n",
       "      <td>4033851</td>\n",
       "      <td>762728880_76361333336</td>\n",
       "      <td>949661017_22392791362_127391</td>\n",
       "      <td>step_3</td>\n",
       "      <td>2017-04-05 12:26:08</td>\n",
       "      <td>Control</td>\n",
       "    </tr>\n",
       "    <tr>\n",
       "      <th>17</th>\n",
       "      <td>4033851</td>\n",
       "      <td>762728880_76361333336</td>\n",
       "      <td>949661017_22392791362_127391</td>\n",
       "      <td>step_2</td>\n",
       "      <td>2017-04-05 12:24:43</td>\n",
       "      <td>Control</td>\n",
       "    </tr>\n",
       "    <tr>\n",
       "      <th>...</th>\n",
       "      <td>...</td>\n",
       "      <td>...</td>\n",
       "      <td>...</td>\n",
       "      <td>...</td>\n",
       "      <td>...</td>\n",
       "      <td>...</td>\n",
       "    </tr>\n",
       "    <tr>\n",
       "      <th>629289</th>\n",
       "      <td>433098</td>\n",
       "      <td>5505424_50616523266</td>\n",
       "      <td>773565250_67577573147_389841</td>\n",
       "      <td>start</td>\n",
       "      <td>2017-05-13 15:30:47</td>\n",
       "      <td>Control</td>\n",
       "    </tr>\n",
       "    <tr>\n",
       "      <th>629346</th>\n",
       "      <td>2908510</td>\n",
       "      <td>814969699_90652851448</td>\n",
       "      <td>562606085_36368381773_92090</td>\n",
       "      <td>start</td>\n",
       "      <td>2017-05-10 22:57:17</td>\n",
       "      <td>Control</td>\n",
       "    </tr>\n",
       "    <tr>\n",
       "      <th>629347</th>\n",
       "      <td>2908510</td>\n",
       "      <td>814969699_90652851448</td>\n",
       "      <td>562606085_36368381773_92090</td>\n",
       "      <td>step_2</td>\n",
       "      <td>2017-05-10 22:56:31</td>\n",
       "      <td>Control</td>\n",
       "    </tr>\n",
       "    <tr>\n",
       "      <th>629348</th>\n",
       "      <td>2908510</td>\n",
       "      <td>814969699_90652851448</td>\n",
       "      <td>562606085_36368381773_92090</td>\n",
       "      <td>step_1</td>\n",
       "      <td>2017-05-10 22:56:23</td>\n",
       "      <td>Control</td>\n",
       "    </tr>\n",
       "    <tr>\n",
       "      <th>629349</th>\n",
       "      <td>2908510</td>\n",
       "      <td>814969699_90652851448</td>\n",
       "      <td>562606085_36368381773_92090</td>\n",
       "      <td>start</td>\n",
       "      <td>2017-05-10 22:56:20</td>\n",
       "      <td>Control</td>\n",
       "    </tr>\n",
       "  </tbody>\n",
       "</table>\n",
       "<p>140536 rows × 6 columns</p>\n",
       "</div>"
      ],
      "text/plain": [
       "        client_id             visitor_id                      visit_id  \\\n",
       "13        4033851  762728880_76361333336  949661017_22392791362_127391   \n",
       "14        4033851  762728880_76361333336  949661017_22392791362_127391   \n",
       "15        4033851  762728880_76361333336  949661017_22392791362_127391   \n",
       "16        4033851  762728880_76361333336  949661017_22392791362_127391   \n",
       "17        4033851  762728880_76361333336  949661017_22392791362_127391   \n",
       "...           ...                    ...                           ...   \n",
       "629289     433098    5505424_50616523266  773565250_67577573147_389841   \n",
       "629346    2908510  814969699_90652851448   562606085_36368381773_92090   \n",
       "629347    2908510  814969699_90652851448   562606085_36368381773_92090   \n",
       "629348    2908510  814969699_90652851448   562606085_36368381773_92090   \n",
       "629349    2908510  814969699_90652851448   562606085_36368381773_92090   \n",
       "\n",
       "       process_step            date_time variation  \n",
       "13          confirm  2017-04-05 12:29:03   Control  \n",
       "14          confirm  2017-04-05 12:29:01   Control  \n",
       "15          confirm  2017-04-05 12:28:52   Control  \n",
       "16           step_3  2017-04-05 12:26:08   Control  \n",
       "17           step_2  2017-04-05 12:24:43   Control  \n",
       "...             ...                  ...       ...  \n",
       "629289        start  2017-05-13 15:30:47   Control  \n",
       "629346        start  2017-05-10 22:57:17   Control  \n",
       "629347       step_2  2017-05-10 22:56:31   Control  \n",
       "629348       step_1  2017-05-10 22:56:23   Control  \n",
       "629349        start  2017-05-10 22:56:20   Control  \n",
       "\n",
       "[140536 rows x 6 columns]"
      ]
     },
     "execution_count": 49,
     "metadata": {},
     "output_type": "execute_result"
    }
   ],
   "source": [
    "#Separamos los df segun control y creamos un df_control\n",
    "df_control = merge_df.loc[merge_df['variation'] == 'Control']\n",
    "df_control"
   ]
  },
  {
   "cell_type": "code",
   "execution_count": 50,
   "id": "8a8b8a54",
   "metadata": {},
   "outputs": [
    {
     "data": {
      "text/plain": [
       "(140536, 6)"
      ]
     },
     "execution_count": 50,
     "metadata": {},
     "output_type": "execute_result"
    }
   ],
   "source": [
    "df_control.shape"
   ]
  },
  {
   "cell_type": "markdown",
   "id": "3481bbe0",
   "metadata": {},
   "source": [
    "## Performance Metrics"
   ]
  },
  {
   "cell_type": "markdown",
   "id": "9e61085d",
   "metadata": {},
   "source": [
    "1. Completion Rate: The proportion of users who reach the final ‘confirm’ step."
   ]
  },
  {
   "cell_type": "markdown",
   "id": "7b4204e0",
   "metadata": {},
   "source": [
    "### DF TEST"
   ]
  },
  {
   "cell_type": "code",
   "execution_count": 51,
   "id": "9f10a754",
   "metadata": {},
   "outputs": [],
   "source": [
    "confirmed_users = df_test[df_test['process_step'] == 'confirm']"
   ]
  },
  {
   "cell_type": "code",
   "execution_count": 52,
   "id": "06c1a7c6",
   "metadata": {},
   "outputs": [],
   "source": [
    "#number of client_id that confirm the process"
   ]
  },
  {
   "cell_type": "code",
   "execution_count": 53,
   "id": "4a6dfea6",
   "metadata": {},
   "outputs": [],
   "source": [
    "unique_user_test = df_test['client_id'].unique()"
   ]
  },
  {
   "cell_type": "code",
   "execution_count": 54,
   "id": "ee1ff563",
   "metadata": {},
   "outputs": [
    {
     "data": {
      "text/plain": [
       "25600"
      ]
     },
     "execution_count": 54,
     "metadata": {},
     "output_type": "execute_result"
    }
   ],
   "source": [
    "num_confimed_users = len(confirmed_users)\n",
    "num_confimed_users"
   ]
  },
  {
   "cell_type": "code",
   "execution_count": 55,
   "id": "3dab434f",
   "metadata": {},
   "outputs": [],
   "source": [
    "#number of unique client_id that confirm the process"
   ]
  },
  {
   "cell_type": "code",
   "execution_count": 56,
   "id": "eb7ad532",
   "metadata": {},
   "outputs": [
    {
     "data": {
      "text/plain": [
       "18687"
      ]
     },
     "execution_count": 56,
     "metadata": {},
     "output_type": "execute_result"
    }
   ],
   "source": [
    "unique_user = len(confirmed_users['client_id'].unique())\n",
    "unique_user"
   ]
  },
  {
   "cell_type": "code",
   "execution_count": 57,
   "id": "e4acd8cd",
   "metadata": {},
   "outputs": [
    {
     "name": "stdout",
     "output_type": "stream",
     "text": [
      "The completion rate is: 94.93 %\n"
     ]
    }
   ],
   "source": [
    "completion_rate_test = len(confirmed_users)/ len(unique_user_test) * 100\n",
    "round_result  = round(completion_rate_test,2)\n",
    "\n",
    "print(f\"The completion rate is: {round_result}\", \"%\")"
   ]
  },
  {
   "cell_type": "code",
   "execution_count": 58,
   "id": "7f7f5abd",
   "metadata": {},
   "outputs": [
    {
     "data": {
      "text/plain": [
       "25600"
      ]
     },
     "execution_count": 58,
     "metadata": {},
     "output_type": "execute_result"
    }
   ],
   "source": [
    "len(confirmed_users)"
   ]
  },
  {
   "cell_type": "code",
   "execution_count": 59,
   "id": "aea80c24",
   "metadata": {},
   "outputs": [
    {
     "data": {
      "text/plain": [
       "26968"
      ]
     },
     "execution_count": 59,
     "metadata": {},
     "output_type": "execute_result"
    }
   ],
   "source": [
    "len(unique_user_test)"
   ]
  },
  {
   "cell_type": "markdown",
   "id": "9b8d3b78",
   "metadata": {},
   "source": [
    "### DF Control"
   ]
  },
  {
   "cell_type": "code",
   "execution_count": 60,
   "id": "7f942cc9",
   "metadata": {},
   "outputs": [],
   "source": [
    "confirmed_users_control = df_control[df_control['process_step'] == 'confirm']"
   ]
  },
  {
   "cell_type": "code",
   "execution_count": 61,
   "id": "67f61657",
   "metadata": {},
   "outputs": [
    {
     "data": {
      "text/plain": [
       "(17336, 6)"
      ]
     },
     "execution_count": 61,
     "metadata": {},
     "output_type": "execute_result"
    }
   ],
   "source": [
    "confirmed_users_control.shape"
   ]
  },
  {
   "cell_type": "code",
   "execution_count": 62,
   "id": "67041704",
   "metadata": {},
   "outputs": [],
   "source": [
    "unique_user_control = df_control['client_id'].unique()"
   ]
  },
  {
   "cell_type": "code",
   "execution_count": 63,
   "id": "e4bca652",
   "metadata": {},
   "outputs": [
    {
     "data": {
      "text/plain": [
       "17336"
      ]
     },
     "execution_count": 63,
     "metadata": {},
     "output_type": "execute_result"
    }
   ],
   "source": [
    "num_confimed_users_control = len(confirmed_users_control)\n",
    "num_confimed_users_control"
   ]
  },
  {
   "cell_type": "code",
   "execution_count": 64,
   "id": "1782c17d",
   "metadata": {},
   "outputs": [
    {
     "data": {
      "text/plain": [
       "17336"
      ]
     },
     "execution_count": 64,
     "metadata": {},
     "output_type": "execute_result"
    }
   ],
   "source": [
    "len(confirmed_users_control)"
   ]
  },
  {
   "cell_type": "code",
   "execution_count": 65,
   "id": "8fd78a13",
   "metadata": {},
   "outputs": [
    {
     "data": {
      "text/plain": [
       "17336"
      ]
     },
     "execution_count": 65,
     "metadata": {},
     "output_type": "execute_result"
    }
   ],
   "source": [
    "len(confirmed_users_control)"
   ]
  },
  {
   "cell_type": "code",
   "execution_count": 66,
   "id": "fb12e622",
   "metadata": {},
   "outputs": [
    {
     "data": {
      "text/plain": [
       "23532"
      ]
     },
     "execution_count": 66,
     "metadata": {},
     "output_type": "execute_result"
    }
   ],
   "source": [
    "len(unique_user_test)\n",
    "len(confirmed_users)\n",
    "len(confirmed_users_control)\n",
    "len(unique_user_control)"
   ]
  },
  {
   "cell_type": "code",
   "execution_count": 67,
   "id": "c8cb10ab",
   "metadata": {},
   "outputs": [
    {
     "data": {
      "text/plain": [
       "23532"
      ]
     },
     "execution_count": 67,
     "metadata": {},
     "output_type": "execute_result"
    }
   ],
   "source": [
    "len(unique_user_control)"
   ]
  },
  {
   "cell_type": "code",
   "execution_count": 68,
   "id": "224dc316",
   "metadata": {},
   "outputs": [
    {
     "name": "stdout",
     "output_type": "stream",
     "text": [
      "The completion rate is: 73.66989631140575\n"
     ]
    }
   ],
   "source": [
    "completion_rate_control = len(confirmed_users_control)/ len(unique_user_control) * 100\n",
    "print(f\"The completion rate is: {completion_rate_control}\")"
   ]
  },
  {
   "cell_type": "code",
   "execution_count": 69,
   "id": "c2722a39",
   "metadata": {},
   "outputs": [
    {
     "name": "stdout",
     "output_type": "stream",
     "text": [
      "The completion rate is: 94.93 %\n"
     ]
    }
   ],
   "source": [
    "round_result_  = round(completion_rate_control,2)\n",
    "\n",
    "print(f\"The completion rate is: {round_result}\", \"%\")"
   ]
  },
  {
   "cell_type": "markdown",
   "id": "fdb9686b",
   "metadata": {},
   "source": [
    "- `Completion rate for control`: 73.67 %\n",
    "- `Completion rate for test`: 94.93 %"
   ]
  },
  {
   "cell_type": "markdown",
   "id": "377780c1",
   "metadata": {},
   "source": [
    "### 2. Time Spent on Each Step: The average duration users spend on each step."
   ]
  },
  {
   "cell_type": "markdown",
   "id": "76383ea0",
   "metadata": {},
   "source": [
    "#### DF CONTROL"
   ]
  },
  {
   "cell_type": "code",
   "execution_count": 70,
   "id": "3599caa8",
   "metadata": {},
   "outputs": [
    {
     "name": "stderr",
     "output_type": "stream",
     "text": [
      "/var/folders/k_/v5fd001j3bsfqngvdgmg9dg40000gn/T/ipykernel_3797/1586962168.py:1: SettingWithCopyWarning: \n",
      "A value is trying to be set on a copy of a slice from a DataFrame.\n",
      "Try using .loc[row_indexer,col_indexer] = value instead\n",
      "\n",
      "See the caveats in the documentation: https://pandas.pydata.org/pandas-docs/stable/user_guide/indexing.html#returning-a-view-versus-a-copy\n",
      "  df_control['date_time'] = pd.to_datetime(df_control['date_time'])\n"
     ]
    }
   ],
   "source": [
    "df_control['date_time'] = pd.to_datetime(df_control['date_time'])"
   ]
  },
  {
   "cell_type": "code",
   "execution_count": 71,
   "id": "868ffe26",
   "metadata": {},
   "outputs": [],
   "source": [
    "# Ordenar el DataFrame por 'client_id' y 'date_time' para garantizar que los registros estén en el orden correcto\n",
    "df_control = df_control.sort_values(by=['client_id', 'date_time'])\n",
    "\n",
    "# Calcular la diferencia de tiempo entre cada registro consecutivo para cada usuario\n",
    "df_control['duration'] = (df_control['date_time'] - df_control.groupby('client_id')['date_time'].shift()).dt.total_seconds()\n",
    "\n",
    "# Ajustar la duración para el primer registro de cada usuario, estableciendo la diferencia de tiempo en 0\n",
    "df_control.loc[df_control['client_id'] != df_control['client_id'].shift(), 'duration'] = 0"
   ]
  },
  {
   "cell_type": "code",
   "execution_count": 72,
   "id": "499a7d35",
   "metadata": {},
   "outputs": [
    {
     "name": "stdout",
     "output_type": "stream",
     "text": [
      "Average time in each step in minutes:\n",
      "process_step\n",
      "confirm    1109.610333\n",
      "start      3268.098500\n",
      "step_1       30.679500\n",
      "step_2        0.658333\n",
      "step_3        9.699500\n",
      "Name: duration, dtype: float64\n"
     ]
    }
   ],
   "source": [
    "# Calculate the average time in each step\n",
    "average_time_per_step = df_control.groupby('process_step')['duration'].mean().round(2)\n",
    "\n",
    "# Imprimir el resultado\n",
    "print(\"Average time in each step in minutes:\")\n",
    "print(average_time_per_step/60)"
   ]
  },
  {
   "cell_type": "code",
   "execution_count": 73,
   "id": "7539aeef",
   "metadata": {},
   "outputs": [],
   "source": [
    "avg_time_control = pd.DataFrame(list(average_time_per_step.items()), columns=['Step', 'Average Time'])\n",
    "# Asignar la columna 'Test' con el valor 'test' a todos\n",
    "avg_time_control['Group'] = 'Control'"
   ]
  },
  {
   "cell_type": "code",
   "execution_count": 74,
   "id": "c2987d5d",
   "metadata": {},
   "outputs": [
    {
     "data": {
      "text/html": [
       "<div>\n",
       "<style scoped>\n",
       "    .dataframe tbody tr th:only-of-type {\n",
       "        vertical-align: middle;\n",
       "    }\n",
       "\n",
       "    .dataframe tbody tr th {\n",
       "        vertical-align: top;\n",
       "    }\n",
       "\n",
       "    .dataframe thead th {\n",
       "        text-align: right;\n",
       "    }\n",
       "</style>\n",
       "<table border=\"1\" class=\"dataframe\">\n",
       "  <thead>\n",
       "    <tr style=\"text-align: right;\">\n",
       "      <th></th>\n",
       "      <th>Step</th>\n",
       "      <th>Average Time</th>\n",
       "      <th>Group</th>\n",
       "    </tr>\n",
       "  </thead>\n",
       "  <tbody>\n",
       "    <tr>\n",
       "      <th>0</th>\n",
       "      <td>confirm</td>\n",
       "      <td>66576.62</td>\n",
       "      <td>Control</td>\n",
       "    </tr>\n",
       "    <tr>\n",
       "      <th>1</th>\n",
       "      <td>start</td>\n",
       "      <td>196085.91</td>\n",
       "      <td>Control</td>\n",
       "    </tr>\n",
       "    <tr>\n",
       "      <th>2</th>\n",
       "      <td>step_1</td>\n",
       "      <td>1840.77</td>\n",
       "      <td>Control</td>\n",
       "    </tr>\n",
       "    <tr>\n",
       "      <th>3</th>\n",
       "      <td>step_2</td>\n",
       "      <td>39.50</td>\n",
       "      <td>Control</td>\n",
       "    </tr>\n",
       "    <tr>\n",
       "      <th>4</th>\n",
       "      <td>step_3</td>\n",
       "      <td>581.97</td>\n",
       "      <td>Control</td>\n",
       "    </tr>\n",
       "  </tbody>\n",
       "</table>\n",
       "</div>"
      ],
      "text/plain": [
       "      Step  Average Time    Group\n",
       "0  confirm      66576.62  Control\n",
       "1    start     196085.91  Control\n",
       "2   step_1       1840.77  Control\n",
       "3   step_2         39.50  Control\n",
       "4   step_3        581.97  Control"
      ]
     },
     "execution_count": 74,
     "metadata": {},
     "output_type": "execute_result"
    }
   ],
   "source": [
    "avg_time_control"
   ]
  },
  {
   "cell_type": "markdown",
   "id": "a26424cf",
   "metadata": {},
   "source": [
    "#### DF TEST"
   ]
  },
  {
   "cell_type": "code",
   "execution_count": 75,
   "id": "ab495a78",
   "metadata": {},
   "outputs": [],
   "source": [
    "df_test['date_time'] = pd.to_datetime(df_test['date_time'])"
   ]
  },
  {
   "cell_type": "code",
   "execution_count": 76,
   "id": "1c57cfa3",
   "metadata": {},
   "outputs": [],
   "source": [
    "# Ordenar el DataFrame por 'client_id' y 'date_time' para garantizar que los registros estén en el orden correcto\n",
    "df_test = df_test.sort_values(by=['client_id', 'date_time'])\n",
    "\n",
    "# Calcular la diferencia de tiempo entre cada registro consecutivo para cada usuario\n",
    "df_test['duration'] = (df_test['date_time'] - df_test.groupby('client_id')['date_time'].shift()).dt.total_seconds()\n",
    "\n",
    "# Ajustar la duración para el primer registro de cada usuario, estableciendo la diferencia de tiempo en 0\n",
    "df_test.loc[df_test['client_id'] != df_test['client_id'].shift(), 'duration'] = 0"
   ]
  },
  {
   "cell_type": "code",
   "execution_count": 77,
   "id": "bece68dd",
   "metadata": {},
   "outputs": [
    {
     "name": "stdout",
     "output_type": "stream",
     "text": [
      "Average time in each step in minutes:\n",
      "process_step\n",
      "confirm    104008.52\n",
      "start      144390.88\n",
      "step_1       1340.26\n",
      "step_2        111.51\n",
      "step_3        741.96\n",
      "Name: duration, dtype: float64\n"
     ]
    }
   ],
   "source": [
    "# Calculate the average time in each step\n",
    "average_time_per_step_test = df_test.groupby('process_step')['duration'].mean().round(2)\n",
    "\n",
    "# Imprimir el resultado\n",
    "print(\"Average time in each step in minutes:\")\n",
    "print(average_time_per_step_test)"
   ]
  },
  {
   "cell_type": "code",
   "execution_count": 78,
   "id": "bf0fe9b7",
   "metadata": {},
   "outputs": [
    {
     "data": {
      "text/html": [
       "<div>\n",
       "<style scoped>\n",
       "    .dataframe tbody tr th:only-of-type {\n",
       "        vertical-align: middle;\n",
       "    }\n",
       "\n",
       "    .dataframe tbody tr th {\n",
       "        vertical-align: top;\n",
       "    }\n",
       "\n",
       "    .dataframe thead th {\n",
       "        text-align: right;\n",
       "    }\n",
       "</style>\n",
       "<table border=\"1\" class=\"dataframe\">\n",
       "  <thead>\n",
       "    <tr style=\"text-align: right;\">\n",
       "      <th></th>\n",
       "      <th>Step</th>\n",
       "      <th>Average Time</th>\n",
       "      <th>Group</th>\n",
       "    </tr>\n",
       "  </thead>\n",
       "  <tbody>\n",
       "    <tr>\n",
       "      <th>0</th>\n",
       "      <td>confirm</td>\n",
       "      <td>104008.52</td>\n",
       "      <td>Test</td>\n",
       "    </tr>\n",
       "    <tr>\n",
       "      <th>1</th>\n",
       "      <td>start</td>\n",
       "      <td>144390.88</td>\n",
       "      <td>Test</td>\n",
       "    </tr>\n",
       "    <tr>\n",
       "      <th>2</th>\n",
       "      <td>step_1</td>\n",
       "      <td>1340.26</td>\n",
       "      <td>Test</td>\n",
       "    </tr>\n",
       "    <tr>\n",
       "      <th>3</th>\n",
       "      <td>step_2</td>\n",
       "      <td>111.51</td>\n",
       "      <td>Test</td>\n",
       "    </tr>\n",
       "    <tr>\n",
       "      <th>4</th>\n",
       "      <td>step_3</td>\n",
       "      <td>741.96</td>\n",
       "      <td>Test</td>\n",
       "    </tr>\n",
       "  </tbody>\n",
       "</table>\n",
       "</div>"
      ],
      "text/plain": [
       "      Step  Average Time Group\n",
       "0  confirm     104008.52  Test\n",
       "1    start     144390.88  Test\n",
       "2   step_1       1340.26  Test\n",
       "3   step_2        111.51  Test\n",
       "4   step_3        741.96  Test"
      ]
     },
     "execution_count": 78,
     "metadata": {},
     "output_type": "execute_result"
    }
   ],
   "source": [
    "avg_time_test = pd.DataFrame(list(average_time_per_step_test.items()), columns=['Step', 'Average Time'])\n",
    "# Asignar la columna 'Test' con el valor 'test' a todos\n",
    "avg_time_test['Group'] = 'Test'\n",
    "avg_time_test"
   ]
  },
  {
   "cell_type": "code",
   "execution_count": 79,
   "id": "80e1d15c",
   "metadata": {},
   "outputs": [
    {
     "data": {
      "text/html": [
       "<div>\n",
       "<style scoped>\n",
       "    .dataframe tbody tr th:only-of-type {\n",
       "        vertical-align: middle;\n",
       "    }\n",
       "\n",
       "    .dataframe tbody tr th {\n",
       "        vertical-align: top;\n",
       "    }\n",
       "\n",
       "    .dataframe thead th {\n",
       "        text-align: right;\n",
       "    }\n",
       "</style>\n",
       "<table border=\"1\" class=\"dataframe\">\n",
       "  <thead>\n",
       "    <tr style=\"text-align: right;\">\n",
       "      <th></th>\n",
       "      <th>Step</th>\n",
       "      <th>Average Time</th>\n",
       "      <th>Group</th>\n",
       "    </tr>\n",
       "  </thead>\n",
       "  <tbody>\n",
       "    <tr>\n",
       "      <th>0</th>\n",
       "      <td>confirm</td>\n",
       "      <td>104008.52</td>\n",
       "      <td>Test</td>\n",
       "    </tr>\n",
       "    <tr>\n",
       "      <th>1</th>\n",
       "      <td>start</td>\n",
       "      <td>144390.88</td>\n",
       "      <td>Test</td>\n",
       "    </tr>\n",
       "    <tr>\n",
       "      <th>2</th>\n",
       "      <td>step_1</td>\n",
       "      <td>1340.26</td>\n",
       "      <td>Test</td>\n",
       "    </tr>\n",
       "    <tr>\n",
       "      <th>3</th>\n",
       "      <td>step_2</td>\n",
       "      <td>111.51</td>\n",
       "      <td>Test</td>\n",
       "    </tr>\n",
       "    <tr>\n",
       "      <th>4</th>\n",
       "      <td>step_3</td>\n",
       "      <td>741.96</td>\n",
       "      <td>Test</td>\n",
       "    </tr>\n",
       "    <tr>\n",
       "      <th>5</th>\n",
       "      <td>confirm</td>\n",
       "      <td>66576.62</td>\n",
       "      <td>Control</td>\n",
       "    </tr>\n",
       "    <tr>\n",
       "      <th>6</th>\n",
       "      <td>start</td>\n",
       "      <td>196085.91</td>\n",
       "      <td>Control</td>\n",
       "    </tr>\n",
       "    <tr>\n",
       "      <th>7</th>\n",
       "      <td>step_1</td>\n",
       "      <td>1840.77</td>\n",
       "      <td>Control</td>\n",
       "    </tr>\n",
       "    <tr>\n",
       "      <th>8</th>\n",
       "      <td>step_2</td>\n",
       "      <td>39.50</td>\n",
       "      <td>Control</td>\n",
       "    </tr>\n",
       "    <tr>\n",
       "      <th>9</th>\n",
       "      <td>step_3</td>\n",
       "      <td>581.97</td>\n",
       "      <td>Control</td>\n",
       "    </tr>\n",
       "  </tbody>\n",
       "</table>\n",
       "</div>"
      ],
      "text/plain": [
       "      Step  Average Time    Group\n",
       "0  confirm     104008.52     Test\n",
       "1    start     144390.88     Test\n",
       "2   step_1       1340.26     Test\n",
       "3   step_2        111.51     Test\n",
       "4   step_3        741.96     Test\n",
       "5  confirm      66576.62  Control\n",
       "6    start     196085.91  Control\n",
       "7   step_1       1840.77  Control\n",
       "8   step_2         39.50  Control\n",
       "9   step_3        581.97  Control"
      ]
     },
     "execution_count": 79,
     "metadata": {},
     "output_type": "execute_result"
    }
   ],
   "source": [
    "time_group = pd.concat([avg_time_test, avg_time_control], ignore_index=True)\n",
    "time_group"
   ]
  },
  {
   "cell_type": "code",
   "execution_count": 80,
   "id": "f3289828",
   "metadata": {},
   "outputs": [],
   "source": [
    "time_group.to_csv('time_group.csv', index=False)"
   ]
  },
  {
   "cell_type": "markdown",
   "id": "1b232a4a",
   "metadata": {},
   "source": [
    "3. Error Rates: If there’s a step where users go back to a previous step, it may indicate confusion or an error. You should consider moving from a later step to an earlier one as an error."
   ]
  },
  {
   "cell_type": "markdown",
   "id": "edc23f24",
   "metadata": {},
   "source": [
    "#### DF CONTROL"
   ]
  },
  {
   "cell_type": "code",
   "execution_count": 81,
   "id": "b68028c3",
   "metadata": {},
   "outputs": [
    {
     "data": {
      "text/html": [
       "<div>\n",
       "<style scoped>\n",
       "    .dataframe tbody tr th:only-of-type {\n",
       "        vertical-align: middle;\n",
       "    }\n",
       "\n",
       "    .dataframe tbody tr th {\n",
       "        vertical-align: top;\n",
       "    }\n",
       "\n",
       "    .dataframe thead th {\n",
       "        text-align: right;\n",
       "    }\n",
       "</style>\n",
       "<table border=\"1\" class=\"dataframe\">\n",
       "  <thead>\n",
       "    <tr style=\"text-align: right;\">\n",
       "      <th></th>\n",
       "      <th>client_id</th>\n",
       "      <th>visitor_id</th>\n",
       "      <th>visit_id</th>\n",
       "      <th>process_step</th>\n",
       "      <th>date_time</th>\n",
       "      <th>variation</th>\n",
       "      <th>duration</th>\n",
       "    </tr>\n",
       "  </thead>\n",
       "  <tbody>\n",
       "    <tr>\n",
       "      <th>131606</th>\n",
       "      <td>1028</td>\n",
       "      <td>42237450_62128060588</td>\n",
       "      <td>557292053_87239438319_391157</td>\n",
       "      <td>start</td>\n",
       "      <td>2017-04-08 18:51:28</td>\n",
       "      <td>Control</td>\n",
       "      <td>0.0</td>\n",
       "    </tr>\n",
       "    <tr>\n",
       "      <th>131605</th>\n",
       "      <td>1028</td>\n",
       "      <td>42237450_62128060588</td>\n",
       "      <td>557292053_87239438319_391157</td>\n",
       "      <td>step_1</td>\n",
       "      <td>2017-04-08 18:52:17</td>\n",
       "      <td>Control</td>\n",
       "      <td>49.0</td>\n",
       "    </tr>\n",
       "    <tr>\n",
       "      <th>131604</th>\n",
       "      <td>1028</td>\n",
       "      <td>42237450_62128060588</td>\n",
       "      <td>557292053_87239438319_391157</td>\n",
       "      <td>step_1</td>\n",
       "      <td>2017-04-08 18:53:20</td>\n",
       "      <td>Control</td>\n",
       "      <td>63.0</td>\n",
       "    </tr>\n",
       "    <tr>\n",
       "      <th>131603</th>\n",
       "      <td>1028</td>\n",
       "      <td>42237450_62128060588</td>\n",
       "      <td>557292053_87239438319_391157</td>\n",
       "      <td>step_2</td>\n",
       "      <td>2017-04-08 18:53:29</td>\n",
       "      <td>Control</td>\n",
       "      <td>9.0</td>\n",
       "    </tr>\n",
       "    <tr>\n",
       "      <th>131602</th>\n",
       "      <td>1028</td>\n",
       "      <td>42237450_62128060588</td>\n",
       "      <td>557292053_87239438319_391157</td>\n",
       "      <td>step_3</td>\n",
       "      <td>2017-04-08 18:58:04</td>\n",
       "      <td>Control</td>\n",
       "      <td>275.0</td>\n",
       "    </tr>\n",
       "  </tbody>\n",
       "</table>\n",
       "</div>"
      ],
      "text/plain": [
       "        client_id            visitor_id                      visit_id  \\\n",
       "131606       1028  42237450_62128060588  557292053_87239438319_391157   \n",
       "131605       1028  42237450_62128060588  557292053_87239438319_391157   \n",
       "131604       1028  42237450_62128060588  557292053_87239438319_391157   \n",
       "131603       1028  42237450_62128060588  557292053_87239438319_391157   \n",
       "131602       1028  42237450_62128060588  557292053_87239438319_391157   \n",
       "\n",
       "       process_step           date_time variation  duration  \n",
       "131606        start 2017-04-08 18:51:28   Control       0.0  \n",
       "131605       step_1 2017-04-08 18:52:17   Control      49.0  \n",
       "131604       step_1 2017-04-08 18:53:20   Control      63.0  \n",
       "131603       step_2 2017-04-08 18:53:29   Control       9.0  \n",
       "131602       step_3 2017-04-08 18:58:04   Control     275.0  "
      ]
     },
     "execution_count": 81,
     "metadata": {},
     "output_type": "execute_result"
    }
   ],
   "source": [
    "df_control.head()"
   ]
  },
  {
   "cell_type": "code",
   "execution_count": 82,
   "id": "09a3ac83",
   "metadata": {},
   "outputs": [
    {
     "data": {
      "text/plain": [
       "array(['start', 'step_1', 'step_2', 'step_3', 'confirm'], dtype=object)"
      ]
     },
     "execution_count": 82,
     "metadata": {},
     "output_type": "execute_result"
    }
   ],
   "source": [
    "df_control['process_step'].unique()"
   ]
  },
  {
   "cell_type": "code",
   "execution_count": 83,
   "id": "41e6e415",
   "metadata": {},
   "outputs": [],
   "source": [
    "#Crear una columna para cada process_step\n",
    "def assign_value(step):\n",
    "    if step == 'start':\n",
    "        return 0\n",
    "    elif step == 'step_1':\n",
    "        return 1\n",
    "    elif step == 'step_2':\n",
    "        return 2\n",
    "    elif step == 'step_3':\n",
    "        return 3\n",
    "    elif step == 'confirm':\n",
    "        return 4\n",
    "    else:\n",
    "        return 'none'"
   ]
  },
  {
   "cell_type": "code",
   "execution_count": 84,
   "id": "a0b3304a",
   "metadata": {},
   "outputs": [],
   "source": [
    "df_control['step_values'] = df_control['process_step'].apply(assign_value)"
   ]
  },
  {
   "cell_type": "code",
   "execution_count": 85,
   "id": "b29bcad9",
   "metadata": {},
   "outputs": [
    {
     "data": {
      "text/plain": [
       "array([0, 1, 2, 3, 4])"
      ]
     },
     "execution_count": 85,
     "metadata": {},
     "output_type": "execute_result"
    }
   ],
   "source": [
    "df_control['step_values'].unique()"
   ]
  },
  {
   "cell_type": "code",
   "execution_count": 86,
   "id": "11d8dba5",
   "metadata": {},
   "outputs": [],
   "source": [
    "# Calcular la diferencia entre 'step_values' y 'visitor_id' dentro de cada grupo definido por 'process_numeric'\n",
    "#df_test['step_visitor_diff'] = df_test[df_test['step_values'] != 0].groupby(['client_id', 'visitor_id', 'visit_id'])['step_values'].diff()\n",
    "\n",
    "df_control['step_visitor_diff'] = df_control.sort_values(['client_id', 'visitor_id', 'visit_id'], ascending=True).groupby(['client_id', 'visitor_id', 'visit_id'])['step_values'].diff()\n",
    "\n",
    "# diff() diferencia entre valores consecutivos dentro de cada grupo definido por 'client_id', 'visitor_id' y 'visit_id'. \n",
    "#Esto es lo que te permite obtener la diferencia entre 'step_values' dentro de cada grupo.\n",
    "#diferencia entre el valor actual de 'step_values' y el valor anterior en esa secuencia"
   ]
  },
  {
   "cell_type": "code",
   "execution_count": 87,
   "id": "7483a157",
   "metadata": {},
   "outputs": [
    {
     "data": {
      "text/html": [
       "<div>\n",
       "<style scoped>\n",
       "    .dataframe tbody tr th:only-of-type {\n",
       "        vertical-align: middle;\n",
       "    }\n",
       "\n",
       "    .dataframe tbody tr th {\n",
       "        vertical-align: top;\n",
       "    }\n",
       "\n",
       "    .dataframe thead th {\n",
       "        text-align: right;\n",
       "    }\n",
       "</style>\n",
       "<table border=\"1\" class=\"dataframe\">\n",
       "  <thead>\n",
       "    <tr style=\"text-align: right;\">\n",
       "      <th></th>\n",
       "      <th>client_id</th>\n",
       "      <th>visitor_id</th>\n",
       "      <th>visit_id</th>\n",
       "      <th>process_step</th>\n",
       "      <th>date_time</th>\n",
       "      <th>variation</th>\n",
       "      <th>duration</th>\n",
       "      <th>step_values</th>\n",
       "      <th>step_visitor_diff</th>\n",
       "    </tr>\n",
       "  </thead>\n",
       "  <tbody>\n",
       "    <tr>\n",
       "      <th>131606</th>\n",
       "      <td>1028</td>\n",
       "      <td>42237450_62128060588</td>\n",
       "      <td>557292053_87239438319_391157</td>\n",
       "      <td>start</td>\n",
       "      <td>2017-04-08 18:51:28</td>\n",
       "      <td>Control</td>\n",
       "      <td>0.0</td>\n",
       "      <td>0</td>\n",
       "      <td>NaN</td>\n",
       "    </tr>\n",
       "    <tr>\n",
       "      <th>131605</th>\n",
       "      <td>1028</td>\n",
       "      <td>42237450_62128060588</td>\n",
       "      <td>557292053_87239438319_391157</td>\n",
       "      <td>step_1</td>\n",
       "      <td>2017-04-08 18:52:17</td>\n",
       "      <td>Control</td>\n",
       "      <td>49.0</td>\n",
       "      <td>1</td>\n",
       "      <td>1.0</td>\n",
       "    </tr>\n",
       "    <tr>\n",
       "      <th>131604</th>\n",
       "      <td>1028</td>\n",
       "      <td>42237450_62128060588</td>\n",
       "      <td>557292053_87239438319_391157</td>\n",
       "      <td>step_1</td>\n",
       "      <td>2017-04-08 18:53:20</td>\n",
       "      <td>Control</td>\n",
       "      <td>63.0</td>\n",
       "      <td>1</td>\n",
       "      <td>0.0</td>\n",
       "    </tr>\n",
       "    <tr>\n",
       "      <th>131603</th>\n",
       "      <td>1028</td>\n",
       "      <td>42237450_62128060588</td>\n",
       "      <td>557292053_87239438319_391157</td>\n",
       "      <td>step_2</td>\n",
       "      <td>2017-04-08 18:53:29</td>\n",
       "      <td>Control</td>\n",
       "      <td>9.0</td>\n",
       "      <td>2</td>\n",
       "      <td>1.0</td>\n",
       "    </tr>\n",
       "    <tr>\n",
       "      <th>131602</th>\n",
       "      <td>1028</td>\n",
       "      <td>42237450_62128060588</td>\n",
       "      <td>557292053_87239438319_391157</td>\n",
       "      <td>step_3</td>\n",
       "      <td>2017-04-08 18:58:04</td>\n",
       "      <td>Control</td>\n",
       "      <td>275.0</td>\n",
       "      <td>3</td>\n",
       "      <td>1.0</td>\n",
       "    </tr>\n",
       "  </tbody>\n",
       "</table>\n",
       "</div>"
      ],
      "text/plain": [
       "        client_id            visitor_id                      visit_id  \\\n",
       "131606       1028  42237450_62128060588  557292053_87239438319_391157   \n",
       "131605       1028  42237450_62128060588  557292053_87239438319_391157   \n",
       "131604       1028  42237450_62128060588  557292053_87239438319_391157   \n",
       "131603       1028  42237450_62128060588  557292053_87239438319_391157   \n",
       "131602       1028  42237450_62128060588  557292053_87239438319_391157   \n",
       "\n",
       "       process_step           date_time variation  duration  step_values  \\\n",
       "131606        start 2017-04-08 18:51:28   Control       0.0            0   \n",
       "131605       step_1 2017-04-08 18:52:17   Control      49.0            1   \n",
       "131604       step_1 2017-04-08 18:53:20   Control      63.0            1   \n",
       "131603       step_2 2017-04-08 18:53:29   Control       9.0            2   \n",
       "131602       step_3 2017-04-08 18:58:04   Control     275.0            3   \n",
       "\n",
       "        step_visitor_diff  \n",
       "131606                NaN  \n",
       "131605                1.0  \n",
       "131604                0.0  \n",
       "131603                1.0  \n",
       "131602                1.0  "
      ]
     },
     "execution_count": 87,
     "metadata": {},
     "output_type": "execute_result"
    }
   ],
   "source": [
    "df_control.head()"
   ]
  },
  {
   "cell_type": "code",
   "execution_count": 88,
   "id": "bfa4deeb",
   "metadata": {},
   "outputs": [
    {
     "data": {
      "text/plain": [
       "131606    NaN\n",
       "131605    1.0\n",
       "131604    0.0\n",
       "131603    1.0\n",
       "131602    1.0\n",
       "         ... \n",
       "118839    1.0\n",
       "118838    1.0\n",
       "118836    0.0\n",
       "118837    1.0\n",
       "118473    NaN\n",
       "Name: step_visitor_diff, Length: 140536, dtype: float64"
      ]
     },
     "execution_count": 88,
     "metadata": {},
     "output_type": "execute_result"
    }
   ],
   "source": [
    "df_control['step_visitor_diff']"
   ]
  },
  {
   "cell_type": "code",
   "execution_count": 89,
   "id": "ca037c3a",
   "metadata": {},
   "outputs": [
    {
     "data": {
      "text/plain": [
       "9581"
      ]
     },
     "execution_count": 89,
     "metadata": {},
     "output_type": "execute_result"
    }
   ],
   "source": [
    "# Identificar los errores donde la diferencia es negativa\n",
    "errors = df_control['step_visitor_diff'][df_control['step_visitor_diff'] < 0].count().sum()\n",
    "errors"
   ]
  },
  {
   "cell_type": "code",
   "execution_count": 90,
   "id": "293eb3a0",
   "metadata": {},
   "outputs": [],
   "source": [
    "# Calcular el número total de transiciones\n",
    "total_transitions = df_control['step_values'].count() - 1"
   ]
  },
  {
   "cell_type": "code",
   "execution_count": 91,
   "id": "f8b87e1d",
   "metadata": {},
   "outputs": [
    {
     "name": "stdout",
     "output_type": "stream",
     "text": [
      "Error rate for control group: 6.817518767566797\n"
     ]
    }
   ],
   "source": [
    "# Calcular la tasa de errores\n",
    "error_rate = (errors / total_transitions) * 100\n",
    "\n",
    "print(\"Error rate for control group:\", error_rate)"
   ]
  },
  {
   "cell_type": "code",
   "execution_count": 92,
   "id": "005fd145",
   "metadata": {},
   "outputs": [
    {
     "name": "stdout",
     "output_type": "stream",
     "text": [
      "Error rate for control group: 6.82 %\n"
     ]
    }
   ],
   "source": [
    "error_rate_rounded = round(error_rate, 2)\n",
    "\n",
    "print(\"Error rate for control group:\", error_rate_rounded, \"%\")"
   ]
  },
  {
   "cell_type": "markdown",
   "id": "da4c955d",
   "metadata": {},
   "source": [
    "### DF TEST"
   ]
  },
  {
   "cell_type": "code",
   "execution_count": 93,
   "id": "bb8f1285",
   "metadata": {},
   "outputs": [
    {
     "data": {
      "text/html": [
       "<div>\n",
       "<style scoped>\n",
       "    .dataframe tbody tr th:only-of-type {\n",
       "        vertical-align: middle;\n",
       "    }\n",
       "\n",
       "    .dataframe tbody tr th {\n",
       "        vertical-align: top;\n",
       "    }\n",
       "\n",
       "    .dataframe thead th {\n",
       "        text-align: right;\n",
       "    }\n",
       "</style>\n",
       "<table border=\"1\" class=\"dataframe\">\n",
       "  <thead>\n",
       "    <tr style=\"text-align: right;\">\n",
       "      <th></th>\n",
       "      <th>client_id</th>\n",
       "      <th>visitor_id</th>\n",
       "      <th>visit_id</th>\n",
       "      <th>process_step</th>\n",
       "      <th>date_time</th>\n",
       "      <th>variation</th>\n",
       "      <th>duration</th>\n",
       "      <th>step_values</th>\n",
       "    </tr>\n",
       "  </thead>\n",
       "  <tbody>\n",
       "    <tr>\n",
       "      <th>71583</th>\n",
       "      <td>555</td>\n",
       "      <td>402506806_56087378777</td>\n",
       "      <td>637149525_38041617439_716659</td>\n",
       "      <td>start</td>\n",
       "      <td>2017-04-15 12:57:56</td>\n",
       "      <td>Test</td>\n",
       "      <td>0.0</td>\n",
       "      <td>0</td>\n",
       "    </tr>\n",
       "    <tr>\n",
       "      <th>71582</th>\n",
       "      <td>555</td>\n",
       "      <td>402506806_56087378777</td>\n",
       "      <td>637149525_38041617439_716659</td>\n",
       "      <td>step_1</td>\n",
       "      <td>2017-04-15 12:58:03</td>\n",
       "      <td>Test</td>\n",
       "      <td>7.0</td>\n",
       "      <td>1</td>\n",
       "    </tr>\n",
       "    <tr>\n",
       "      <th>71581</th>\n",
       "      <td>555</td>\n",
       "      <td>402506806_56087378777</td>\n",
       "      <td>637149525_38041617439_716659</td>\n",
       "      <td>step_2</td>\n",
       "      <td>2017-04-15 12:58:35</td>\n",
       "      <td>Test</td>\n",
       "      <td>32.0</td>\n",
       "      <td>2</td>\n",
       "    </tr>\n",
       "    <tr>\n",
       "      <th>71580</th>\n",
       "      <td>555</td>\n",
       "      <td>402506806_56087378777</td>\n",
       "      <td>637149525_38041617439_716659</td>\n",
       "      <td>step_3</td>\n",
       "      <td>2017-04-15 13:00:14</td>\n",
       "      <td>Test</td>\n",
       "      <td>99.0</td>\n",
       "      <td>3</td>\n",
       "    </tr>\n",
       "    <tr>\n",
       "      <th>71579</th>\n",
       "      <td>555</td>\n",
       "      <td>402506806_56087378777</td>\n",
       "      <td>637149525_38041617439_716659</td>\n",
       "      <td>confirm</td>\n",
       "      <td>2017-04-15 13:00:34</td>\n",
       "      <td>Test</td>\n",
       "      <td>20.0</td>\n",
       "      <td>4</td>\n",
       "    </tr>\n",
       "  </tbody>\n",
       "</table>\n",
       "</div>"
      ],
      "text/plain": [
       "       client_id             visitor_id                      visit_id  \\\n",
       "71583        555  402506806_56087378777  637149525_38041617439_716659   \n",
       "71582        555  402506806_56087378777  637149525_38041617439_716659   \n",
       "71581        555  402506806_56087378777  637149525_38041617439_716659   \n",
       "71580        555  402506806_56087378777  637149525_38041617439_716659   \n",
       "71579        555  402506806_56087378777  637149525_38041617439_716659   \n",
       "\n",
       "      process_step           date_time variation  duration  step_values  \n",
       "71583        start 2017-04-15 12:57:56      Test       0.0            0  \n",
       "71582       step_1 2017-04-15 12:58:03      Test       7.0            1  \n",
       "71581       step_2 2017-04-15 12:58:35      Test      32.0            2  \n",
       "71580       step_3 2017-04-15 13:00:14      Test      99.0            3  \n",
       "71579      confirm 2017-04-15 13:00:34      Test      20.0            4  "
      ]
     },
     "execution_count": 93,
     "metadata": {},
     "output_type": "execute_result"
    }
   ],
   "source": [
    "df_test['step_values'] = df_test['process_step'].apply(assign_value)\n",
    "df_test.head()"
   ]
  },
  {
   "cell_type": "code",
   "execution_count": 94,
   "id": "f1547647",
   "metadata": {},
   "outputs": [
    {
     "data": {
      "text/plain": [
       "array([0, 1, 2, 3, 4])"
      ]
     },
     "execution_count": 94,
     "metadata": {},
     "output_type": "execute_result"
    }
   ],
   "source": [
    "df_test['step_values'].unique()"
   ]
  },
  {
   "cell_type": "code",
   "execution_count": 95,
   "id": "ec8b37f2",
   "metadata": {},
   "outputs": [],
   "source": [
    "# Calcular la diferencia entre 'step_values' y 'visitor_id' dentro de cada grupo definido por 'process_numeric'\n",
    "df_test['step_visitor_diff'] = df_test.groupby(['client_id', 'visitor_id', 'visit_id'])['step_values'].diff()"
   ]
  },
  {
   "cell_type": "code",
   "execution_count": 96,
   "id": "3f13c0e7",
   "metadata": {},
   "outputs": [
    {
     "data": {
      "text/plain": [
       "16232"
      ]
     },
     "execution_count": 96,
     "metadata": {},
     "output_type": "execute_result"
    }
   ],
   "source": [
    "# Identificar los errores donde la diferencia es negativa\n",
    "errors = df_test['step_visitor_diff'][df_test['step_visitor_diff'] < 0].count().sum()\n",
    "errors"
   ]
  },
  {
   "cell_type": "code",
   "execution_count": 97,
   "id": "529a1aae",
   "metadata": {},
   "outputs": [],
   "source": [
    "# Calcular el número total de transiciones\n",
    "total_transitions_test = df_test['step_values'].count() - 1"
   ]
  },
  {
   "cell_type": "code",
   "execution_count": 98,
   "id": "82d99c17",
   "metadata": {},
   "outputs": [
    {
     "name": "stdout",
     "output_type": "stream",
     "text": [
      "Error rate for test group: 9.186295260840529\n"
     ]
    }
   ],
   "source": [
    "# Calcular la tasa de errores\n",
    "error_rate = (errors / total_transitions_test) * 100\n",
    "\n",
    "print(\"Error rate for test group:\", error_rate)"
   ]
  },
  {
   "cell_type": "code",
   "execution_count": 99,
   "id": "51d0c1a7",
   "metadata": {},
   "outputs": [
    {
     "name": "stdout",
     "output_type": "stream",
     "text": [
      "Error rate for test group: 9.19 %\n"
     ]
    }
   ],
   "source": [
    "# Redondear el valor de la tasa de errores y mostrar solo dos números decimales\n",
    "error_rate_rounded = round(error_rate, 2)\n",
    "\n",
    "print(\"Error rate for test group:\", error_rate_rounded, \"%\")"
   ]
  },
  {
   "cell_type": "markdown",
   "id": "61fa5cc7",
   "metadata": {},
   "source": [
    "- `Error rate for test group`: 9.19%\n",
    "- `Error rate for control group`: 6.82 %"
   ]
  },
  {
   "cell_type": "markdown",
   "id": "124ec38e",
   "metadata": {},
   "source": [
    "#### Redesign Outcome\n",
    "Based on the chosen KPIs, how does the new design’s performance compare to the old one?"
   ]
  },
  {
   "cell_type": "markdown",
   "id": "26dd41f1",
   "metadata": {},
   "source": [
    "Based on the provided key performance indicators (KPIs), the new design appears to outperform the old one in certain aspects:\n",
    "\n",
    "**1. Completion Rate:** The completion rate for the test group is significantly higher (94.93%) compared to the control group (73.67%). This indicates that the new design likely streamlines the process or enhances user experience, leading to more users successfully reaching the final step.\n",
    "\n",
    "**2. Time Spent on Each Step:** While the time spent on the \"start\" step is slightly lower in the test group, indicating potential efficiency gains, the time spent on the \"confirm\" step is notably higher. However, this increase in time might be attributed to users taking more care or engaging more with the process due to improved design elements or clearer instructions.\n",
    "\n",
    "**3. Error Rates**: The error rate for the test group (9.19%) is higher than that of the control group (6.82%). This could suggest that there are some aspects of the new design that may cause confusion or difficulty for users, leading to more errors. It's essential to investigate further to identify these potential pain points and address them to improve overall user experience.\n",
    "\n",
    "In summary, the new design shows promising results with a significantly higher completion rate, potentially improved efficiency in certain steps, but also a slightly higher error rate. Further analysis and user feedback may be necessary to pinpoint areas for further optimization, ensuring that the new design maximizes user satisfaction and task completion."
   ]
  },
  {
   "cell_type": "markdown",
   "id": "77f33f7b",
   "metadata": {},
   "source": [
    "### Hypothesis Testing"
   ]
  },
  {
   "cell_type": "markdown",
   "id": "e99c172d",
   "metadata": {},
   "source": [
    "1. Confirmed if the difference in completion rate of the the new design and the old design is statistically significant.\n",
    "2. Carried out an analysis ensuring that the observed increase in completion rate from the A/B test meets or exceeds this 5% threshold.\n",
    "3. Carried out another hypothesis test of your choosing.\n",
    "4. Evaluated the experiment by answering questions relating to:\n",
    "   -  Design Effectiveness\n",
    "   - Duration\n",
    "   - Additional Data Needs"
   ]
  },
  {
   "cell_type": "markdown",
   "id": "78e0b14e",
   "metadata": {},
   "source": [
    "**1. Confirmed if the difference in completion rate of the the new design and the old design is statistically significant.**"
   ]
  },
  {
   "cell_type": "markdown",
   "id": "a6efeaaa",
   "metadata": {},
   "source": [
    "##### Set Hypothesis"
   ]
  },
  {
   "cell_type": "code",
   "execution_count": 100,
   "id": "d82f1be5",
   "metadata": {},
   "outputs": [],
   "source": [
    "#Set the hypothesis\n",
    "\n",
    "#H0: The completion rate for the Test group (new design) is equal to the completion rate for the Control group (old design).\n",
    "#H1: The completion rate for the Test group (new design) is not equal to the completion rate for the Control group (old design).\n"
   ]
  },
  {
   "cell_type": "code",
   "execution_count": 101,
   "id": "6a824be5",
   "metadata": {},
   "outputs": [],
   "source": [
    "alpha = 0.05"
   ]
  },
  {
   "cell_type": "code",
   "execution_count": 102,
   "id": "53ee8bb9",
   "metadata": {},
   "outputs": [
    {
     "data": {
      "text/plain": [
       "array(['Test', 'Control', nan, 'No participate'], dtype=object)"
      ]
     },
     "execution_count": 102,
     "metadata": {},
     "output_type": "execute_result"
    }
   ],
   "source": [
    "merge_df['variation'].unique()"
   ]
  },
  {
   "cell_type": "code",
   "execution_count": 103,
   "id": "e6600221",
   "metadata": {},
   "outputs": [],
   "source": [
    "# Change column type to datetime.\n",
    "merge_df['date_time'] = pd.to_datetime(merge_df['date_time'])\n",
    "\n",
    "# Delete rows with NaN in column 'variation'.\n",
    "merge_df.dropna(inplace=True)\n",
    "\n",
    "# Delete rows with category 'Not participate' in column 'variation'.\n",
    "merge_df = merge_df[merge_df['variation'] != 'Not participate']"
   ]
  },
  {
   "cell_type": "code",
   "execution_count": 104,
   "id": "cde0ead3",
   "metadata": {},
   "outputs": [],
   "source": [
    "# Filter the data for the categories 'start' and 'confirm'.\n",
    "filtered_df = merge_df[merge_df['process_step'].isin(['start', 'confirm'])]\n",
    "\n",
    "# Sort the DataFrame filtered by 'client_id', 'visit_id' and 'date_time'.\n",
    "filtered_df_sorted = filtered_df.sort_values(by=['client_id', 'visit_id', 'date_time'])"
   ]
  },
  {
   "cell_type": "code",
   "execution_count": 105,
   "id": "9ed7d0af",
   "metadata": {},
   "outputs": [],
   "source": [
    "# Calculate the time difference in seconds between adjacent steps.\n",
    "time_diff_seconds = filtered_df_sorted.groupby(['client_id', 'visit_id'])['date_time'].diff().dt.total_seconds()"
   ]
  },
  {
   "cell_type": "code",
   "execution_count": 106,
   "id": "121db1d8",
   "metadata": {},
   "outputs": [],
   "source": [
    "# Filter the DataFrame for rows where the current step is 'confirm'.\n",
    "confirm_time_diff_seconds = time_diff_seconds[filtered_df_sorted['process_step'] == 'confirm'].tolist()"
   ]
  },
  {
   "cell_type": "code",
   "execution_count": 107,
   "id": "d6b8f2d7",
   "metadata": {},
   "outputs": [],
   "source": [
    "#  Filter by variation category where the process step is confirm.\n",
    "confirm_time_test = time_diff_seconds[(filtered_df_sorted['process_step'] == 'confirm') & (filtered_df_sorted['variation'].isin(['Test']))].tolist()"
   ]
  },
  {
   "cell_type": "code",
   "execution_count": 108,
   "id": "e36eddad",
   "metadata": {},
   "outputs": [],
   "source": [
    "confirm_time_control = time_diff_seconds[(filtered_df_sorted['process_step'] == 'confirm') & (filtered_df_sorted['variation'].isin(['Control']))].tolist()"
   ]
  },
  {
   "cell_type": "code",
   "execution_count": 109,
   "id": "9d83adac",
   "metadata": {},
   "outputs": [],
   "source": [
    "# Delete the Nans.\n",
    "confirm_time_control = [x for x in confirm_time_control if not pd.isna(x)]\n",
    "confirm_time_test = [x for x in confirm_time_test if not pd.isna(x)]"
   ]
  },
  {
   "cell_type": "code",
   "execution_count": 110,
   "id": "9ae443ad",
   "metadata": {},
   "outputs": [
    {
     "name": "stdout",
     "output_type": "stream",
     "text": [
      "The p value is: 4.411876643501144e-24\n",
      "The results is that: We reject the null hypothesis\n"
     ]
    }
   ],
   "source": [
    "\n",
    "# Try hypothesis.\n",
    "_,p_value = st.ttest_ind(confirm_time_control,confirm_time_test)\n",
    "\n",
    "print(f\"The p value is: {p_value}\")\n",
    "\n",
    "if p_value > alpha:\n",
    "    print(\"The results is that: We are not able to reject the null hypothesis\")\n",
    "else:\n",
    "    print(\"The results is that: We reject the null hypothesis\")"
   ]
  },
  {
   "cell_type": "markdown",
   "id": "71e41a15",
   "metadata": {},
   "source": [
    "**2. Carried out an analysis ensuring that the observed increase in completion rate from the A/B test meets or exceeds this 5% threshold.**"
   ]
  },
  {
   "cell_type": "markdown",
   "id": "52ec52a0",
   "metadata": {},
   "source": [
    "The introduction of a new UI design comes with its associated costs: design, development, testing, potential training for staff, and possible short-term disruptions or adjustments for users. To justify these costs, Vanguard has determined that any new design should lead to a minimum increase in the completion rate to be deemed cost-effective.\n",
    "\n",
    "Threshold: Vanguard has set this minimum increase in completion rate at 5%. This is the rate at which the projected benefits, in terms of increased user engagement and potential revenue, are estimated to outweigh the costs of the new design.\n",
    "\n",
    "You are required to carry out another analysis, ensuring that the observed increase in completion rate from the A/B test meets or exceeds this 5% threshold. If the new design doesn’t lead to at least this level of improvement, it may not be justifiable from a cost perspective, regardless of its statistical significance."
   ]
  },
  {
   "cell_type": "code",
   "execution_count": 111,
   "id": "e6dec249",
   "metadata": {},
   "outputs": [],
   "source": [
    "confirm_time_test_ = [x * 1.05 for x in confirm_time_test]"
   ]
  },
  {
   "cell_type": "code",
   "execution_count": 112,
   "id": "b3dd4505",
   "metadata": {},
   "outputs": [],
   "source": [
    "confirm_time_test_ = [x for x in confirm_time_control if not pd.isna(x)]\n",
    "confirm_time_control = [x for x in confirm_time_test if not pd.isna(x)]"
   ]
  },
  {
   "cell_type": "code",
   "execution_count": 113,
   "id": "4c1d2837",
   "metadata": {},
   "outputs": [
    {
     "name": "stdout",
     "output_type": "stream",
     "text": [
      "The p value is: 4.411876643501144e-24\n",
      "The results is that: We reject the null hypothesis\n"
     ]
    }
   ],
   "source": [
    "_,p_value = st.ttest_ind(confirm_time_test_,confirm_time_control)\n",
    "\n",
    "print(f\"The p value is: {p_value}\")\n",
    "\n",
    "if p_value > alpha:\n",
    "    print(\"The results is that: We are not able to reject the null hypothesis\")\n",
    "else:\n",
    "    print(\"The results is that: We reject the null hypothesis\")"
   ]
  },
  {
   "cell_type": "markdown",
   "id": "dc8e1463",
   "metadata": {},
   "source": [
    "Based on the statistical analysis and the t-test result, the observed increase in the A/B completion rate is not only statistically significant, but also meets or exceeds the 5% threshold set by Vanguard. Therefore, the implementation of the new design can be justified from a cost-benefit perspective."
   ]
  },
  {
   "cell_type": "markdown",
   "id": "d43d084a",
   "metadata": {},
   "source": [
    "#### Hypothesis Testing \n",
    "- Choose hypothesis:\n",
    "\n",
    "You might want to test whether the average age of clients engaging with the new process is the same as those engaging with the old process"
   ]
  },
  {
   "cell_type": "code",
   "execution_count": 114,
   "id": "dc36ebce",
   "metadata": {},
   "outputs": [],
   "source": [
    "#Set the hypothesis\n",
    "\n",
    "#H0: the average age of clients engaging with the new process are different as those engaging with the old process\n",
    "#H1: the average age of clients engaging with the new process is the same as those engaging with the old process\n"
   ]
  },
  {
   "cell_type": "markdown",
   "id": "e73f6cbf",
   "metadata": {},
   "source": [
    "##### Choose significance level"
   ]
  },
  {
   "cell_type": "code",
   "execution_count": 115,
   "id": "120a03c6",
   "metadata": {},
   "outputs": [],
   "source": [
    "alpha = 0.05"
   ]
  },
  {
   "cell_type": "code",
   "execution_count": 116,
   "id": "6ec0b5ab",
   "metadata": {},
   "outputs": [
    {
     "data": {
      "text/html": [
       "<div>\n",
       "<style scoped>\n",
       "    .dataframe tbody tr th:only-of-type {\n",
       "        vertical-align: middle;\n",
       "    }\n",
       "\n",
       "    .dataframe tbody tr th {\n",
       "        vertical-align: top;\n",
       "    }\n",
       "\n",
       "    .dataframe thead th {\n",
       "        text-align: right;\n",
       "    }\n",
       "</style>\n",
       "<table border=\"1\" class=\"dataframe\">\n",
       "  <thead>\n",
       "    <tr style=\"text-align: right;\">\n",
       "      <th></th>\n",
       "      <th>client_id</th>\n",
       "      <th>clnt_tenure_yr</th>\n",
       "      <th>clnt_tenure_mnth</th>\n",
       "      <th>clnt_age</th>\n",
       "      <th>gender</th>\n",
       "      <th>num_account</th>\n",
       "      <th>balance</th>\n",
       "      <th>calls_6_mnth</th>\n",
       "      <th>logons_6_mnth</th>\n",
       "      <th>variation</th>\n",
       "    </tr>\n",
       "  </thead>\n",
       "  <tbody>\n",
       "    <tr>\n",
       "      <th>0</th>\n",
       "      <td>836976</td>\n",
       "      <td>6.0</td>\n",
       "      <td>73.0</td>\n",
       "      <td>60.5</td>\n",
       "      <td>U</td>\n",
       "      <td>2.0</td>\n",
       "      <td>45105.30</td>\n",
       "      <td>6.0</td>\n",
       "      <td>9.0</td>\n",
       "      <td>Test</td>\n",
       "    </tr>\n",
       "    <tr>\n",
       "      <th>1</th>\n",
       "      <td>2304905</td>\n",
       "      <td>7.0</td>\n",
       "      <td>94.0</td>\n",
       "      <td>58.0</td>\n",
       "      <td>U</td>\n",
       "      <td>2.0</td>\n",
       "      <td>110860.30</td>\n",
       "      <td>6.0</td>\n",
       "      <td>9.0</td>\n",
       "      <td>Control</td>\n",
       "    </tr>\n",
       "    <tr>\n",
       "      <th>2</th>\n",
       "      <td>1439522</td>\n",
       "      <td>5.0</td>\n",
       "      <td>64.0</td>\n",
       "      <td>32.0</td>\n",
       "      <td>U</td>\n",
       "      <td>2.0</td>\n",
       "      <td>52467.79</td>\n",
       "      <td>6.0</td>\n",
       "      <td>9.0</td>\n",
       "      <td>Test</td>\n",
       "    </tr>\n",
       "    <tr>\n",
       "      <th>3</th>\n",
       "      <td>1562045</td>\n",
       "      <td>16.0</td>\n",
       "      <td>198.0</td>\n",
       "      <td>49.0</td>\n",
       "      <td>M</td>\n",
       "      <td>2.0</td>\n",
       "      <td>67454.65</td>\n",
       "      <td>3.0</td>\n",
       "      <td>6.0</td>\n",
       "      <td>Test</td>\n",
       "    </tr>\n",
       "    <tr>\n",
       "      <th>4</th>\n",
       "      <td>5126305</td>\n",
       "      <td>12.0</td>\n",
       "      <td>145.0</td>\n",
       "      <td>33.0</td>\n",
       "      <td>F</td>\n",
       "      <td>2.0</td>\n",
       "      <td>103671.75</td>\n",
       "      <td>0.0</td>\n",
       "      <td>3.0</td>\n",
       "      <td>Control</td>\n",
       "    </tr>\n",
       "    <tr>\n",
       "      <th>...</th>\n",
       "      <td>...</td>\n",
       "      <td>...</td>\n",
       "      <td>...</td>\n",
       "      <td>...</td>\n",
       "      <td>...</td>\n",
       "      <td>...</td>\n",
       "      <td>...</td>\n",
       "      <td>...</td>\n",
       "      <td>...</td>\n",
       "      <td>...</td>\n",
       "    </tr>\n",
       "    <tr>\n",
       "      <th>70604</th>\n",
       "      <td>7993686</td>\n",
       "      <td>4.0</td>\n",
       "      <td>56.0</td>\n",
       "      <td>38.5</td>\n",
       "      <td>U</td>\n",
       "      <td>3.0</td>\n",
       "      <td>1411062.68</td>\n",
       "      <td>5.0</td>\n",
       "      <td>5.0</td>\n",
       "      <td>No participate</td>\n",
       "    </tr>\n",
       "    <tr>\n",
       "      <th>70605</th>\n",
       "      <td>8981690</td>\n",
       "      <td>12.0</td>\n",
       "      <td>148.0</td>\n",
       "      <td>31.0</td>\n",
       "      <td>M</td>\n",
       "      <td>2.0</td>\n",
       "      <td>101867.07</td>\n",
       "      <td>6.0</td>\n",
       "      <td>6.0</td>\n",
       "      <td>No participate</td>\n",
       "    </tr>\n",
       "    <tr>\n",
       "      <th>70606</th>\n",
       "      <td>333913</td>\n",
       "      <td>16.0</td>\n",
       "      <td>198.0</td>\n",
       "      <td>61.5</td>\n",
       "      <td>F</td>\n",
       "      <td>2.0</td>\n",
       "      <td>40745.00</td>\n",
       "      <td>3.0</td>\n",
       "      <td>3.0</td>\n",
       "      <td>No participate</td>\n",
       "    </tr>\n",
       "    <tr>\n",
       "      <th>70607</th>\n",
       "      <td>1573142</td>\n",
       "      <td>21.0</td>\n",
       "      <td>255.0</td>\n",
       "      <td>68.0</td>\n",
       "      <td>M</td>\n",
       "      <td>3.0</td>\n",
       "      <td>475114.69</td>\n",
       "      <td>4.0</td>\n",
       "      <td>4.0</td>\n",
       "      <td>No participate</td>\n",
       "    </tr>\n",
       "    <tr>\n",
       "      <th>70608</th>\n",
       "      <td>5602139</td>\n",
       "      <td>21.0</td>\n",
       "      <td>254.0</td>\n",
       "      <td>59.5</td>\n",
       "      <td>F</td>\n",
       "      <td>3.0</td>\n",
       "      <td>157498.73</td>\n",
       "      <td>7.0</td>\n",
       "      <td>7.0</td>\n",
       "      <td>No participate</td>\n",
       "    </tr>\n",
       "  </tbody>\n",
       "</table>\n",
       "<p>70609 rows × 10 columns</p>\n",
       "</div>"
      ],
      "text/plain": [
       "       client_id  clnt_tenure_yr  clnt_tenure_mnth  clnt_age gender  \\\n",
       "0         836976             6.0              73.0      60.5      U   \n",
       "1        2304905             7.0              94.0      58.0      U   \n",
       "2        1439522             5.0              64.0      32.0      U   \n",
       "3        1562045            16.0             198.0      49.0      M   \n",
       "4        5126305            12.0             145.0      33.0      F   \n",
       "...          ...             ...               ...       ...    ...   \n",
       "70604    7993686             4.0              56.0      38.5      U   \n",
       "70605    8981690            12.0             148.0      31.0      M   \n",
       "70606     333913            16.0             198.0      61.5      F   \n",
       "70607    1573142            21.0             255.0      68.0      M   \n",
       "70608    5602139            21.0             254.0      59.5      F   \n",
       "\n",
       "       num_account     balance  calls_6_mnth  logons_6_mnth       variation  \n",
       "0              2.0    45105.30           6.0            9.0            Test  \n",
       "1              2.0   110860.30           6.0            9.0         Control  \n",
       "2              2.0    52467.79           6.0            9.0            Test  \n",
       "3              2.0    67454.65           3.0            6.0            Test  \n",
       "4              2.0   103671.75           0.0            3.0         Control  \n",
       "...            ...         ...           ...            ...             ...  \n",
       "70604          3.0  1411062.68           5.0            5.0  No participate  \n",
       "70605          2.0   101867.07           6.0            6.0  No participate  \n",
       "70606          2.0    40745.00           3.0            3.0  No participate  \n",
       "70607          3.0   475114.69           4.0            4.0  No participate  \n",
       "70608          3.0   157498.73           7.0            7.0  No participate  \n",
       "\n",
       "[70609 rows x 10 columns]"
      ]
     },
     "execution_count": 116,
     "metadata": {},
     "output_type": "execute_result"
    }
   ],
   "source": [
    "merge_cl_exp = pd.merge(clients, experiment, on='client_id', how='left')\n",
    "merge_cl_exp"
   ]
  },
  {
   "cell_type": "code",
   "execution_count": 117,
   "id": "0f88ae5b",
   "metadata": {},
   "outputs": [],
   "source": [
    "age_control = merge_cl_exp[merge_cl_exp[\"variation\"]==\"Control\"][\"clnt_age\"].dropna()"
   ]
  },
  {
   "cell_type": "code",
   "execution_count": 118,
   "id": "8d0f1a14",
   "metadata": {},
   "outputs": [],
   "source": [
    "age_test = merge_cl_exp[merge_cl_exp[\"variation\"]==\"Test\"][\"clnt_age\"].dropna()"
   ]
  },
  {
   "cell_type": "code",
   "execution_count": 119,
   "id": "c63c8d4e",
   "metadata": {},
   "outputs": [],
   "source": [
    "import scipy.stats as stats\n",
    "\n",
    "# test t de Student for two samples\n",
    "t_statistic, p_value = stats.ttest_ind(age_control, age_test, equal_var=False)"
   ]
  },
  {
   "cell_type": "code",
   "execution_count": 120,
   "id": "13892dc6",
   "metadata": {},
   "outputs": [
    {
     "name": "stdout",
     "output_type": "stream",
     "text": [
      "t-statistic: 2.416068061200627\n",
      "p-value: 0.015692719461388675\n",
      "We reject the null hypotesis\n"
     ]
    }
   ],
   "source": [
    "# Imprimir el resultado de la prueba de hipótesis\n",
    "print(\"t-statistic:\", t_statistic)\n",
    "print(\"p-value:\", p_value)\n",
    "\n",
    "# Comprobar si rechazamos o no la hipótesis nula\n",
    "if p_value > alpha:\n",
    "    print(\"We are not able to reject the null hypothesis\")\n",
    "else:\n",
    "    print(\"We reject the null hypotesis\")"
   ]
  },
  {
   "cell_type": "markdown",
   "id": "a0701162",
   "metadata": {},
   "source": [
    "#### Experiment Evaluation\n",
    "\n",
    "You are also required to carry out an evaluation of the experiment by answering questions about the design effectiveness, duration and any additional data needs. See the full details below:\n",
    "\n",
    "1. Design Effectiveness\n",
    "- Was the experiment well-structured?\n",
    "- Were clients randomly and equally divided between the old and new designs?\n",
    "- Were there any biases?\n",
    "\n",
    "2. Duration Assessment\n",
    "- Was the timeframe of the experiment (from 3/15/2017 to 6/20/2017) adequate to gather meaningful data and insights?\n",
    "\n",
    "3. Additional Data Needs\n",
    "- What other data, if available, could enhance the analysis?"
   ]
  },
  {
   "cell_type": "code",
   "execution_count": 121,
   "id": "bd62ba72",
   "metadata": {
    "scrolled": true
   },
   "outputs": [
    {
     "data": {
      "text/html": [
       "<div>\n",
       "<style scoped>\n",
       "    .dataframe tbody tr th:only-of-type {\n",
       "        vertical-align: middle;\n",
       "    }\n",
       "\n",
       "    .dataframe tbody tr th {\n",
       "        vertical-align: top;\n",
       "    }\n",
       "\n",
       "    .dataframe thead th {\n",
       "        text-align: right;\n",
       "    }\n",
       "</style>\n",
       "<table border=\"1\" class=\"dataframe\">\n",
       "  <thead>\n",
       "    <tr style=\"text-align: right;\">\n",
       "      <th></th>\n",
       "      <th>client_id</th>\n",
       "      <th>clnt_tenure_yr</th>\n",
       "      <th>clnt_tenure_mnth</th>\n",
       "      <th>clnt_age</th>\n",
       "      <th>gender</th>\n",
       "      <th>num_account</th>\n",
       "      <th>balance</th>\n",
       "      <th>calls_6_mnth</th>\n",
       "      <th>logons_6_mnth</th>\n",
       "      <th>variation</th>\n",
       "    </tr>\n",
       "  </thead>\n",
       "  <tbody>\n",
       "    <tr>\n",
       "      <th>0</th>\n",
       "      <td>836976</td>\n",
       "      <td>6.0</td>\n",
       "      <td>73.0</td>\n",
       "      <td>60.5</td>\n",
       "      <td>U</td>\n",
       "      <td>2.0</td>\n",
       "      <td>45105.30</td>\n",
       "      <td>6.0</td>\n",
       "      <td>9.0</td>\n",
       "      <td>Test</td>\n",
       "    </tr>\n",
       "    <tr>\n",
       "      <th>1</th>\n",
       "      <td>2304905</td>\n",
       "      <td>7.0</td>\n",
       "      <td>94.0</td>\n",
       "      <td>58.0</td>\n",
       "      <td>U</td>\n",
       "      <td>2.0</td>\n",
       "      <td>110860.30</td>\n",
       "      <td>6.0</td>\n",
       "      <td>9.0</td>\n",
       "      <td>Control</td>\n",
       "    </tr>\n",
       "    <tr>\n",
       "      <th>2</th>\n",
       "      <td>1439522</td>\n",
       "      <td>5.0</td>\n",
       "      <td>64.0</td>\n",
       "      <td>32.0</td>\n",
       "      <td>U</td>\n",
       "      <td>2.0</td>\n",
       "      <td>52467.79</td>\n",
       "      <td>6.0</td>\n",
       "      <td>9.0</td>\n",
       "      <td>Test</td>\n",
       "    </tr>\n",
       "    <tr>\n",
       "      <th>3</th>\n",
       "      <td>1562045</td>\n",
       "      <td>16.0</td>\n",
       "      <td>198.0</td>\n",
       "      <td>49.0</td>\n",
       "      <td>M</td>\n",
       "      <td>2.0</td>\n",
       "      <td>67454.65</td>\n",
       "      <td>3.0</td>\n",
       "      <td>6.0</td>\n",
       "      <td>Test</td>\n",
       "    </tr>\n",
       "    <tr>\n",
       "      <th>4</th>\n",
       "      <td>5126305</td>\n",
       "      <td>12.0</td>\n",
       "      <td>145.0</td>\n",
       "      <td>33.0</td>\n",
       "      <td>F</td>\n",
       "      <td>2.0</td>\n",
       "      <td>103671.75</td>\n",
       "      <td>0.0</td>\n",
       "      <td>3.0</td>\n",
       "      <td>Control</td>\n",
       "    </tr>\n",
       "  </tbody>\n",
       "</table>\n",
       "</div>"
      ],
      "text/plain": [
       "   client_id  clnt_tenure_yr  clnt_tenure_mnth  clnt_age gender  num_account  \\\n",
       "0     836976             6.0              73.0      60.5      U          2.0   \n",
       "1    2304905             7.0              94.0      58.0      U          2.0   \n",
       "2    1439522             5.0              64.0      32.0      U          2.0   \n",
       "3    1562045            16.0             198.0      49.0      M          2.0   \n",
       "4    5126305            12.0             145.0      33.0      F          2.0   \n",
       "\n",
       "     balance  calls_6_mnth  logons_6_mnth variation  \n",
       "0   45105.30           6.0            9.0      Test  \n",
       "1  110860.30           6.0            9.0   Control  \n",
       "2   52467.79           6.0            9.0      Test  \n",
       "3   67454.65           3.0            6.0      Test  \n",
       "4  103671.75           0.0            3.0   Control  "
      ]
     },
     "execution_count": 121,
     "metadata": {},
     "output_type": "execute_result"
    }
   ],
   "source": [
    "merge_cl_exp.head()"
   ]
  },
  {
   "cell_type": "markdown",
   "id": "1ac095fd",
   "metadata": {},
   "source": [
    "**1. Design Effectiveness**\n",
    "\n",
    "- Was the experiment well-structured?\n",
    "- Were clients randomly and equally divided between the old and new designs?\n",
    "- Were there any biases?"
   ]
  },
  {
   "cell_type": "markdown",
   "id": "0e39b7ba",
   "metadata": {},
   "source": [
    "#### Analysis of Samples\n",
    "\n",
    "#### Gender\n",
    "\n",
    "**Control Group:**\n",
    "- U: 34.06%\n",
    "- M: 33.87%\n",
    "- F: 32.05%\n",
    "\n",
    "**Test Group:**\n",
    "- U: 34.36%\n",
    "- M: 33.29%\n",
    "- F: 32.32%\n",
    "- X: 0.01%\n",
    "\n",
    "#### Age\n",
    "\n",
    "- **Average age in Test group**: 47.16 years\n",
    "- **Average age in Control group**: 47.5 years\n",
    "\n",
    "#### Tenure\n",
    "\n",
    "- **Average tenure in Test group**: 11.98 years\n",
    "- **Average tenure in Control group**: 12.09 years\n",
    "\n",
    "#### Num_account\n",
    "- Percentage of num account by clients\n",
    "\n",
    "**Control:**\n",
    "- 2.0: 78.24%\n",
    "- 3.0: 18.06%\n",
    "- 4.0: 3.17%\n",
    "- 5.0: 0.46%\n",
    "- 6.0: 0.04%\n",
    "- 7.0: 0.01%\n",
    "\n",
    "**Test:**\n",
    "- 2.0: 78.24%\n",
    "- 3.0: 18.06%\n",
    "- 4.0: 3.17%\n",
    "- 5.0: 0.46%\n",
    "- 6.0: 0.04%\n",
    "- 7.0: 0.01%"
   ]
  },
  {
   "cell_type": "code",
   "execution_count": 122,
   "id": "00260ac6",
   "metadata": {},
   "outputs": [
    {
     "data": {
      "text/plain": [
       "gender\n",
       "U    34.06\n",
       "M    33.87\n",
       "F    32.05\n",
       "Name: count, dtype: float64"
      ]
     },
     "execution_count": 122,
     "metadata": {},
     "output_type": "execute_result"
    }
   ],
   "source": [
    "# Paso 1: Filtrar el DataFrame por la variación \"Control\"\n",
    "control_df_clients = merge_cl_exp[merge_cl_exp['variation'] == 'Control']\n",
    "\n",
    "# Paso 2: Calcular el recuento de género en el DataFrame filtrado\n",
    "gender_counts_control = control_df_clients['gender'].value_counts()\n",
    "\n",
    "# Paso 3: Calcular el porcentaje de cada género en relación con el total de clientes de la variación \"Control\"\n",
    "total_control_clients = len(control_df_clients)\n",
    "gender_percentage_control = ((gender_counts_control / total_control_clients) * 100).round(2)\n",
    "\n",
    "gender_percentage_control"
   ]
  },
  {
   "cell_type": "markdown",
   "id": "23bc4653",
   "metadata": {},
   "source": [
    "##### Gender Test Group"
   ]
  },
  {
   "cell_type": "code",
   "execution_count": 123,
   "id": "440b3b86",
   "metadata": {},
   "outputs": [
    {
     "data": {
      "text/plain": [
       "gender\n",
       "U    34.36\n",
       "M    33.29\n",
       "F    32.32\n",
       "X     0.01\n",
       "Name: count, dtype: float64"
      ]
     },
     "execution_count": 123,
     "metadata": {},
     "output_type": "execute_result"
    }
   ],
   "source": [
    "# Paso 1: Filtrar el DataFrame por la variación \"Test\"\n",
    "test_df_clients = merge_cl_exp[merge_cl_exp['variation'] == 'Test']\n",
    "\n",
    "# Paso 2: Calcular el recuento de género en el DataFrame filtrado\n",
    "gender_counts_test = test_df_clients['gender'].value_counts()\n",
    "\n",
    "# Paso 3: Calcular el porcentaje de cada género en relación con el total de clientes de la variación \"Control\"\n",
    "total_test_clients = len(test_df_clients)\n",
    "gender_percentage_test = ((gender_counts_test / total_test_clients) * 100).round(2)\n",
    "\n",
    "gender_percentage_test"
   ]
  },
  {
   "cell_type": "markdown",
   "id": "aab3ca83",
   "metadata": {},
   "source": [
    "##### Age Test Control y Test"
   ]
  },
  {
   "cell_type": "code",
   "execution_count": 124,
   "id": "66c8e96b",
   "metadata": {},
   "outputs": [],
   "source": [
    "# Paso 1: Filtrar el DataFrame por la variación \"Test\"\n",
    "age_test_df = merge_cl_exp[merge_cl_exp['variation'] == 'Test']\n",
    "\n",
    "# Paso 2: Calcular la edad promedio de los clientes en el DataFrame filtrado \"Test\"\n",
    "average_age_test = age_test_df['clnt_age'].mean().round(2)"
   ]
  },
  {
   "cell_type": "code",
   "execution_count": 125,
   "id": "0489ecae",
   "metadata": {},
   "outputs": [],
   "source": [
    "# Paso 3: Repetir los pasos 1 y 2 para la variación \"Control\"\n",
    "age_control_df = merge_cl_exp[merge_cl_exp['variation'] == 'Control']\n",
    "average_age_control = age_control_df['clnt_age'].mean().round(2)"
   ]
  },
  {
   "cell_type": "code",
   "execution_count": 126,
   "id": "1a1e9e80",
   "metadata": {},
   "outputs": [
    {
     "name": "stdout",
     "output_type": "stream",
     "text": [
      "Average age in Test group: 47.16\n",
      "Average age in Control group: 47.5\n"
     ]
    }
   ],
   "source": [
    "# Mostrar las edades promedio para las variaciones \"Test\" y \"Control\"\n",
    "print(\"Average age in Test group:\", average_age_test)\n",
    "print(\"Average age in Control group:\", average_age_control)"
   ]
  },
  {
   "cell_type": "markdown",
   "id": "fc4b957a",
   "metadata": {},
   "source": [
    "##### Tenure Test Control y Test"
   ]
  },
  {
   "cell_type": "code",
   "execution_count": 127,
   "id": "5f823c1f",
   "metadata": {},
   "outputs": [],
   "source": [
    "# Paso 1: Filtrar el DataFrame por la variación \"Test\"\n",
    "tenure_test_df = merge_cl_exp[merge_cl_exp['variation'] == 'Test']\n",
    "\n",
    "# Paso 2: Calcular la edad promedio de los clientes en el DataFrame filtrado \"Test\"\n",
    "average_tenure_test = tenure_test_df['clnt_tenure_yr'].mean().round(2)"
   ]
  },
  {
   "cell_type": "code",
   "execution_count": 128,
   "id": "bbd89ec8",
   "metadata": {},
   "outputs": [],
   "source": [
    "# Paso 3: Repetir los pasos 1 y 2 para la variación \"Control\"\n",
    "tenure_control_df = merge_cl_exp[merge_cl_exp['variation'] == 'Control']\n",
    "average_tenure_control = tenure_control_df['clnt_tenure_yr'].mean().round(2)"
   ]
  },
  {
   "cell_type": "code",
   "execution_count": 129,
   "id": "52d8751d",
   "metadata": {},
   "outputs": [
    {
     "name": "stdout",
     "output_type": "stream",
     "text": [
      "Average tenure in Test group: 11.98\n",
      "Average tenure in Control group: 12.09\n"
     ]
    }
   ],
   "source": [
    "# Mostrar las edades promedio para las variaciones \"Test\" y \"Control\"\n",
    "print(\"Average tenure in Test group:\", average_tenure_test)\n",
    "print(\"Average tenure in Control group:\", average_tenure_control)"
   ]
  },
  {
   "cell_type": "markdown",
   "id": "5066cab0",
   "metadata": {},
   "source": [
    "##### Num_account Control y Test"
   ]
  },
  {
   "cell_type": "code",
   "execution_count": 130,
   "id": "120d82be",
   "metadata": {},
   "outputs": [
    {
     "name": "stdout",
     "output_type": "stream",
     "text": [
      "The total of clients accounts in Control is:\n",
      "num_account\n",
      "2.0    78.24\n",
      "3.0    18.06\n",
      "4.0     3.17\n",
      "5.0     0.46\n",
      "6.0     0.04\n",
      "7.0     0.01\n",
      "Name: count, dtype: float64\n"
     ]
    }
   ],
   "source": [
    "filter_control = merge_cl_exp[merge_cl_exp[\"variation\"] == \"Control\"]\n",
    "\n",
    "accounts_accounts_control = filter_control[\"num_account\"].value_counts()\n",
    "\n",
    "total_clients = len(filter_control)\n",
    "\n",
    "acounts_percentage_control = ((accounts_accounts_control / total_clients) * 100).round(2)\n",
    "\n",
    "print(\"The total of clients accounts in Control is:\")\n",
    "print(acounts_percentage_control)\n"
   ]
  },
  {
   "cell_type": "code",
   "execution_count": 131,
   "id": "f76d393d",
   "metadata": {},
   "outputs": [
    {
     "name": "stdout",
     "output_type": "stream",
     "text": [
      "The total of clients accounts in Test is:\n",
      "num_account\n",
      "2.0    78.24\n",
      "3.0    18.06\n",
      "4.0     3.17\n",
      "5.0     0.46\n",
      "6.0     0.04\n",
      "7.0     0.01\n",
      "Name: count, dtype: float64\n"
     ]
    }
   ],
   "source": [
    "filter_test = merge_cl_exp[merge_cl_exp[\"variation\"] == \"Control\"]\n",
    "\n",
    "accounts_accounts_test = filter_test[\"num_account\"].value_counts()\n",
    "\n",
    "total_clients = len(filter_test)\n",
    "\n",
    "acounts_percentage_test = ((accounts_accounts_test / total_clients) * 100).round(2)\n",
    "\n",
    "print(\"The total of clients accounts in Test is:\")\n",
    "print(acounts_percentage_test)\n"
   ]
  },
  {
   "cell_type": "markdown",
   "id": "4cee1f63",
   "metadata": {},
   "source": [
    "**2. Duration Assessment**\n",
    "\n",
    "- Was the timeframe of the experiment (from 3/15/2017 to 6/20/2017) adequate to gather meaningful data and insights?"
   ]
  },
  {
   "cell_type": "code",
   "execution_count": 132,
   "id": "88f233b2",
   "metadata": {},
   "outputs": [
    {
     "data": {
      "text/html": [
       "<div>\n",
       "<style scoped>\n",
       "    .dataframe tbody tr th:only-of-type {\n",
       "        vertical-align: middle;\n",
       "    }\n",
       "\n",
       "    .dataframe tbody tr th {\n",
       "        vertical-align: top;\n",
       "    }\n",
       "\n",
       "    .dataframe thead th {\n",
       "        text-align: right;\n",
       "    }\n",
       "</style>\n",
       "<table border=\"1\" class=\"dataframe\">\n",
       "  <thead>\n",
       "    <tr style=\"text-align: right;\">\n",
       "      <th></th>\n",
       "      <th>client_id</th>\n",
       "      <th>visitor_id</th>\n",
       "      <th>visit_id</th>\n",
       "      <th>process_step</th>\n",
       "      <th>date_time</th>\n",
       "    </tr>\n",
       "  </thead>\n",
       "  <tbody>\n",
       "    <tr>\n",
       "      <th>0</th>\n",
       "      <td>9988021</td>\n",
       "      <td>580560515_7732621733</td>\n",
       "      <td>781255054_21935453173_531117</td>\n",
       "      <td>step_3</td>\n",
       "      <td>2017-04-17 15:27:07</td>\n",
       "    </tr>\n",
       "    <tr>\n",
       "      <th>1</th>\n",
       "      <td>9988021</td>\n",
       "      <td>580560515_7732621733</td>\n",
       "      <td>781255054_21935453173_531117</td>\n",
       "      <td>step_2</td>\n",
       "      <td>2017-04-17 15:26:51</td>\n",
       "    </tr>\n",
       "    <tr>\n",
       "      <th>2</th>\n",
       "      <td>9988021</td>\n",
       "      <td>580560515_7732621733</td>\n",
       "      <td>781255054_21935453173_531117</td>\n",
       "      <td>step_3</td>\n",
       "      <td>2017-04-17 15:19:22</td>\n",
       "    </tr>\n",
       "    <tr>\n",
       "      <th>3</th>\n",
       "      <td>9988021</td>\n",
       "      <td>580560515_7732621733</td>\n",
       "      <td>781255054_21935453173_531117</td>\n",
       "      <td>step_2</td>\n",
       "      <td>2017-04-17 15:19:13</td>\n",
       "    </tr>\n",
       "    <tr>\n",
       "      <th>4</th>\n",
       "      <td>9988021</td>\n",
       "      <td>580560515_7732621733</td>\n",
       "      <td>781255054_21935453173_531117</td>\n",
       "      <td>step_3</td>\n",
       "      <td>2017-04-17 15:18:04</td>\n",
       "    </tr>\n",
       "  </tbody>\n",
       "</table>\n",
       "</div>"
      ],
      "text/plain": [
       "   client_id            visitor_id                      visit_id process_step  \\\n",
       "0    9988021  580560515_7732621733  781255054_21935453173_531117       step_3   \n",
       "1    9988021  580560515_7732621733  781255054_21935453173_531117       step_2   \n",
       "2    9988021  580560515_7732621733  781255054_21935453173_531117       step_3   \n",
       "3    9988021  580560515_7732621733  781255054_21935453173_531117       step_2   \n",
       "4    9988021  580560515_7732621733  781255054_21935453173_531117       step_3   \n",
       "\n",
       "             date_time  \n",
       "0  2017-04-17 15:27:07  \n",
       "1  2017-04-17 15:26:51  \n",
       "2  2017-04-17 15:19:22  \n",
       "3  2017-04-17 15:19:13  \n",
       "4  2017-04-17 15:18:04  "
      ]
     },
     "execution_count": 132,
     "metadata": {},
     "output_type": "execute_result"
    }
   ],
   "source": [
    "web_data.head()"
   ]
  },
  {
   "cell_type": "code",
   "execution_count": 133,
   "id": "bab17bfe",
   "metadata": {},
   "outputs": [],
   "source": [
    "# Cast \"date_time\" to datetime because was in object\n",
    "web_data['date_time'] = pd.to_datetime(web_data['date_time'])"
   ]
  },
  {
   "cell_type": "code",
   "execution_count": 134,
   "id": "f9cbb0b1",
   "metadata": {},
   "outputs": [
    {
     "name": "stdout",
     "output_type": "stream",
     "text": [
      "Date min: 2017-03-15 00:03:03\n",
      "Date max: 2017-06-20 23:59:57\n"
     ]
    }
   ],
   "source": [
    "# We want to know the min and max date of the experiment\n",
    "min_date = web_data['date_time'].min()\n",
    "max_date = web_data['date_time'].max()\n",
    "\n",
    "print(\"Date min:\", min_date)\n",
    "print(\"Date max:\", max_date)"
   ]
  },
  {
   "cell_type": "code",
   "execution_count": 135,
   "id": "f42c1435",
   "metadata": {},
   "outputs": [
    {
     "name": "stdout",
     "output_type": "stream",
     "text": [
      "Duration in days: 97\n"
     ]
    }
   ],
   "source": [
    "# Calculate duration in days\n",
    "duration_days = (max_date - min_date).days\n",
    "\n",
    "print(\"Duration in days:\", duration_days)"
   ]
  },
  {
   "cell_type": "code",
   "execution_count": 136,
   "id": "d1daa34d",
   "metadata": {},
   "outputs": [
    {
     "data": {
      "text/html": [
       "<div>\n",
       "<style scoped>\n",
       "    .dataframe tbody tr th:only-of-type {\n",
       "        vertical-align: middle;\n",
       "    }\n",
       "\n",
       "    .dataframe tbody tr th {\n",
       "        vertical-align: top;\n",
       "    }\n",
       "\n",
       "    .dataframe thead th {\n",
       "        text-align: right;\n",
       "    }\n",
       "</style>\n",
       "<table border=\"1\" class=\"dataframe\">\n",
       "  <thead>\n",
       "    <tr style=\"text-align: right;\">\n",
       "      <th></th>\n",
       "      <th>date</th>\n",
       "      <th>total_entries</th>\n",
       "    </tr>\n",
       "  </thead>\n",
       "  <tbody>\n",
       "    <tr>\n",
       "      <th>0</th>\n",
       "      <td>2017-03-15</td>\n",
       "      <td>2035</td>\n",
       "    </tr>\n",
       "    <tr>\n",
       "      <th>1</th>\n",
       "      <td>2017-03-16</td>\n",
       "      <td>781</td>\n",
       "    </tr>\n",
       "    <tr>\n",
       "      <th>2</th>\n",
       "      <td>2017-03-17</td>\n",
       "      <td>434</td>\n",
       "    </tr>\n",
       "    <tr>\n",
       "      <th>3</th>\n",
       "      <td>2017-03-18</td>\n",
       "      <td>428</td>\n",
       "    </tr>\n",
       "    <tr>\n",
       "      <th>4</th>\n",
       "      <td>2017-03-19</td>\n",
       "      <td>472</td>\n",
       "    </tr>\n",
       "    <tr>\n",
       "      <th>...</th>\n",
       "      <td>...</td>\n",
       "      <td>...</td>\n",
       "    </tr>\n",
       "    <tr>\n",
       "      <th>93</th>\n",
       "      <td>2017-06-16</td>\n",
       "      <td>6501</td>\n",
       "    </tr>\n",
       "    <tr>\n",
       "      <th>94</th>\n",
       "      <td>2017-06-17</td>\n",
       "      <td>5635</td>\n",
       "    </tr>\n",
       "    <tr>\n",
       "      <th>95</th>\n",
       "      <td>2017-06-18</td>\n",
       "      <td>7336</td>\n",
       "    </tr>\n",
       "    <tr>\n",
       "      <th>96</th>\n",
       "      <td>2017-06-19</td>\n",
       "      <td>6897</td>\n",
       "    </tr>\n",
       "    <tr>\n",
       "      <th>97</th>\n",
       "      <td>2017-06-20</td>\n",
       "      <td>7728</td>\n",
       "    </tr>\n",
       "  </tbody>\n",
       "</table>\n",
       "<p>98 rows × 2 columns</p>\n",
       "</div>"
      ],
      "text/plain": [
       "          date  total_entries\n",
       "0   2017-03-15           2035\n",
       "1   2017-03-16            781\n",
       "2   2017-03-17            434\n",
       "3   2017-03-18            428\n",
       "4   2017-03-19            472\n",
       "..         ...            ...\n",
       "93  2017-06-16           6501\n",
       "94  2017-06-17           5635\n",
       "95  2017-06-18           7336\n",
       "96  2017-06-19           6897\n",
       "97  2017-06-20           7728\n",
       "\n",
       "[98 rows x 2 columns]"
      ]
     },
     "execution_count": 136,
     "metadata": {},
     "output_type": "execute_result"
    }
   ],
   "source": [
    "# Extraer solo la parte de la fecha (sin la hora) para agrupar por día\n",
    "web_data['date'] = web_data['date_time'].dt.date\n",
    "# Contar el número de entradas por día\n",
    "entries_per_day = web_data.groupby('date').size().reset_index(name='total_entries')\n",
    "entries_per_day"
   ]
  },
  {
   "cell_type": "code",
   "execution_count": 137,
   "id": "3dd503b9",
   "metadata": {},
   "outputs": [
    {
     "data": {
      "image/png": "[encoded data removed]",
      "text/plain": [
       "<Figure size 1200x600 with 1 Axes>"
      ]
     },
     "metadata": {},
     "output_type": "display_data"
    }
   ],
   "source": [
    "# Visualizar los datos en un gráfico de líneas\n",
    "plt.figure(figsize=(12, 6))\n",
    "plt.plot(entries_per_day['date'], entries_per_day['total_entries'], marker='o', color='red' ,linestyle='-')\n",
    "\n",
    "# Configurar el título y las etiquetas de los ejes\n",
    "plt.title('Number of visits')\n",
    "plt.xlabel('Date')\n",
    "plt.ylabel('Number of visits')\n",
    "plt.xticks(rotation=45)\n",
    "\n",
    "# Mostrar el gráfico\n",
    "plt.tight_layout()\n",
    "plt.show()"
   ]
  },
  {
   "cell_type": "markdown",
   "id": "573fe922",
   "metadata": {},
   "source": [
    "**3. Additional Data Needs**\n",
    "- What other data, if available, could enhance the analysis?"
   ]
  },
  {
   "cell_type": "markdown",
   "id": "9c50806e",
   "metadata": {},
   "source": [
    "I think that the bullets points below coul enhance the analysis:\n",
    "\n",
    "- **User Demographics**: Understanding the demographic characteristics of users participating in the test could provide insights into how different demographic groups respond to the changes being tested.\n",
    "\n",
    "- **User Feedback**: Gathering qualitative feedback from users through surveys, interviews, or user feedback channels can provide valuable insights into user perceptions, preferences, and reasons behind their behavior.\n",
    "\n",
    "- **Long-term Impact**: Evaluating the long-term impact of the changes beyond the duration of the A/B test can provide insights into whether the observed effects are sustainable over time.\n"
   ]
  },
  {
   "cell_type": "code",
   "execution_count": null,
   "id": "42cd0e27",
   "metadata": {},
   "outputs": [],
   "source": []
  },
  {
   "cell_type": "code",
   "execution_count": 138,
   "id": "ecd77e7b",
   "metadata": {},
   "outputs": [
    {
     "name": "stdout",
     "output_type": "stream",
     "text": [
      "Requirement already satisfied: statsmodels in /Users/admin/Desktop/IRONHACK/5.WEEK/AB_testing/ab_testing/lib/python3.11/site-packages (0.14.2)\n",
      "Requirement already satisfied: numpy>=1.22.3 in /Users/admin/Desktop/IRONHACK/5.WEEK/AB_testing/ab_testing/lib/python3.11/site-packages (from statsmodels) (1.26.4)\n",
      "Requirement already satisfied: scipy!=1.9.2,>=1.8 in /Users/admin/Desktop/IRONHACK/5.WEEK/AB_testing/ab_testing/lib/python3.11/site-packages (from statsmodels) (1.13.0)\n",
      "Requirement already satisfied: pandas!=2.1.0,>=1.4 in /Users/admin/Desktop/IRONHACK/5.WEEK/AB_testing/ab_testing/lib/python3.11/site-packages (from statsmodels) (2.2.2)\n",
      "Requirement already satisfied: patsy>=0.5.6 in /Users/admin/Desktop/IRONHACK/5.WEEK/AB_testing/ab_testing/lib/python3.11/site-packages (from statsmodels) (0.5.6)\n",
      "Requirement already satisfied: packaging>=21.3 in /Users/admin/Desktop/IRONHACK/5.WEEK/AB_testing/ab_testing/lib/python3.11/site-packages (from statsmodels) (24.0)\n",
      "Requirement already satisfied: python-dateutil>=2.8.2 in /Users/admin/Desktop/IRONHACK/5.WEEK/AB_testing/ab_testing/lib/python3.11/site-packages (from pandas!=2.1.0,>=1.4->statsmodels) (2.9.0.post0)\n",
      "Requirement already satisfied: pytz>=2020.1 in /Users/admin/Desktop/IRONHACK/5.WEEK/AB_testing/ab_testing/lib/python3.11/site-packages (from pandas!=2.1.0,>=1.4->statsmodels) (2024.1)\n",
      "Requirement already satisfied: tzdata>=2022.7 in /Users/admin/Desktop/IRONHACK/5.WEEK/AB_testing/ab_testing/lib/python3.11/site-packages (from pandas!=2.1.0,>=1.4->statsmodels) (2024.1)\n",
      "Requirement already satisfied: six in /Users/admin/Desktop/IRONHACK/5.WEEK/AB_testing/ab_testing/lib/python3.11/site-packages (from patsy>=0.5.6->statsmodels) (1.16.0)\n",
      "Note: you may need to restart the kernel to use updated packages.\n"
     ]
    }
   ],
   "source": [
    "pip install statsmodels"
   ]
  }
 ],
 "metadata": {
  "kernelspec": {
   "display_name": "AB_testing",
   "language": "python",
   "name": "ab_testing"
  },
  "language_info": {
   "codemirror_mode": {
    "name": "ipython",
    "version": 3
   },
   "file_extension": ".py",
   "mimetype": "text/x-python",
   "name": "python",
   "nbconvert_exporter": "python",
   "pygments_lexer": "ipython3",
   "version": "3.11.7"
  }
 },
 "nbformat": 4,
 "nbformat_minor": 5
}
